{
 "cells": [
  {
   "cell_type": "markdown",
   "metadata": {},
   "source": [
    "<h1> Module 3C</h1>"
   ]
  },
  {
   "cell_type": "code",
   "execution_count": null,
   "metadata": {},
   "outputs": [],
   "source": [
    "from cellorganizer.tools import slml2report\n",
    "import glob\n",
    "import urllib.request\n",
    "import tarfile \n",
    "import os\n",
    "from IPython.core.display import display, HTML, Image\n",
    "\n",
    "folder_name = 'Module3C'\n",
    "model_name = 'tfrANDlamp2'\n",
    "model_folder = \"/home/murphylab/cellorganizer/local/models/3D/\"\n",
    "\n",
    "topdir = \"/home/murphylab/cellorganizer/local/results\"\n",
    "outputdir = topdir + \"/\" + folder_name\n",
    "if not os.path.exists(topdir):\n",
    "    os.makedirs(topdir)\n",
    "os.chdir(topdir)\n",
    "os.system(\"ls\")\n",
    "if not os.path.exists(outputdir):\n",
    "    os.makedirs(outputdir)\n",
    "os.chdir(outputdir)\n",
    "os.system(\"ls\")\n",
    "if not os.path.exists(model_name):\n",
    "    os.makedirs(model_name)\n",
    "os.chdir(model_name)\n",
    "os.system(\"ls\")\n",
    "\n",
    "options = {}\n",
    "options['shape_evolution'] = 'null'\n",
    "options['labels'] = 'unique'\n",
    "options['subsize'] = 400 #controls the size of the shape (larger number is smaller)\n",
    "options['includeprot'] = 'true'\n",
    "\n",
    "model_files_1 = model_folder + \"tfr.mat\"\n",
    "model_files_2 = model_folder + \"lamp2.mat\"\n",
    "print(model_files_1)\n",
    "print(model_files_2)\n",
    "answer = slml2report(model_files_1 , model_files_2, options)\n",
    "HTML(filename =  'index.html')"
   ]
  },
  {
   "cell_type": "code",
   "execution_count": null,
   "metadata": {},
   "outputs": [],
   "source": [
    "Image('image3.png')"
   ]
  },
  {
   "cell_type": "code",
   "execution_count": null,
   "metadata": {},
   "outputs": [],
   "source": [
    "Image('image4.png')"
   ]
  },
  {
   "cell_type": "code",
   "execution_count": null,
   "metadata": {},
   "outputs": [],
   "source": [
    "Image('image5.png')"
   ]
  },
  {
   "cell_type": "code",
   "execution_count": null,
   "metadata": {},
   "outputs": [],
   "source": []
  }
 ],
 "metadata": {
  "kernelspec": {
   "display_name": "Python 3",
   "language": "python",
   "name": "python3"
  },
  "language_info": {
   "codemirror_mode": {
    "name": "ipython",
    "version": 3
   },
   "file_extension": ".py",
   "mimetype": "text/x-python",
   "name": "python",
   "nbconvert_exporter": "python",
   "pygments_lexer": "ipython3",
   "version": "3.7.6"
  }
 },
 "nbformat": 4,
 "nbformat_minor": 4
}
