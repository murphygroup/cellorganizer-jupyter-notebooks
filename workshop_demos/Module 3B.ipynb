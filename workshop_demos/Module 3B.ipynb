{
 "cells": [
  {
   "cell_type": "markdown",
   "metadata": {},
   "source": [
    "## Module 3B\n",
    "## Tutorial 3 covers generating organelle models, creating reports from them, and comparing them.\n",
    "## Module 3B generates single model reports on two organelle models (both are Gaussian object models in which each organelle is represented as an ellipsoid). \n",
    "## These describe basic properties of a model."
   ]
  },
  {
   "cell_type": "code",
   "execution_count": 1,
   "metadata": {},
   "outputs": [
    {
     "name": "stdout",
     "output_type": "stream",
     "text": [
      "CellOrganizer v2.10 (MATLAB RO2019a)\n"
     ]
    },
    {
     "data": {
      "text/html": [
       "<!DOCTYPE html>\n",
       "<html>\n",
       "<body>\n",
       "\n",
       "<h2>Filename</h2>\n",
       "<p>/home/murphylab/cellorganizer/local/models/tfr.mat</p>\n",
       "<h2>Model name</h2>\n",
       "<p>3D HeLa classic generative model</p>\n",
       "<h2>Model ID</h2>\n",
       "<p>85641AB5-9574-428C-AB88-CA500421954B</p>\n",
       "<h2>Dimensionality</h2>\n",
       "<p>3D</p>\n",
       "<h2>Documentation</h2>\n",
       "<p>Fields and values present in the documentation structure</p><p>notes</p><p>This model was built using CellOrganizer</p><p>website</p><p>http://www.cellorganizer.org</p><p>date</p><p>05-Jun-2018</p><p>author</p><p>CellOrganizer Team</p><p>contact</p><p>cellorganizer@compbio.cmu.edu</p>\n",
       "<h2>Nuclear shape model information</h2>\n",
       "<p>Fields and values present in the submodel</p>\n",
       "<h2>Model Name</h2>\n",
       "<p>3D HeLa nuclear shape model</p>\n",
       "<h2>ID</h2>\n",
       "<p>UNSET</p>\n",
       "<h2>Model Class</h2>\n",
       "<p>nuclear_membrane</p>\n",
       "<h2>Model Type</h2>\n",
       "<p>cylindrical_surface</p>\n",
       "<h2>Model Resolution</h2>\n",
       "<p>[0.245 0.245 0.2]</p>\n",
       "<h2>Cell shape model information</h2>\n",
       "<p>Fields and values present in the submodel</p>\n",
       "<h2>Model Name</h2>\n",
       "<p>3D HeLa cell shape model</p>\n",
       "<h2>ID</h2>\n",
       "<p>UNSET</p>\n",
       "<h2>Model Class</h2>\n",
       "<p>cell_membrane</p>\n",
       "<h2>Model Type</h2>\n",
       "<p>ratio</p>\n",
       "<h2>Model Resolution</h2>\n",
       "<p>[0.245 0.245 0.2]</p>\n",
       "<h2>Protein pattern model information</h2>\n",
       "<p>Fields and values present in the submodel</p>\n",
       "<h2>Model Name</h2>\n",
       "<p>3D HeLa protein model</p>\n",
       "<h2>ID</h2>\n",
       "<p>UNSET</p>\n",
       "<h2>Model Class</h2>\n",
       "<p>vesicle</p>\n",
       "<h2>Model Type</h2>\n",
       "<p>gmm</p>\n",
       "<h2>Model Resolution</h2>\n",
       "<p>[0.049 0.049 0.2]</p></body>\n",
       "</html>"
      ],
      "text/plain": [
       "<IPython.core.display.HTML object>"
      ]
     },
     "execution_count": 1,
     "metadata": {},
     "output_type": "execute_result"
    }
   ],
   "source": [
    "from cellorganizer.tools import slml2info\n",
    "import os\n",
    "import urllib.request\n",
    "import tarfile \n",
    "import os\n",
    "from IPython.core.display import display, HTML, Image\n",
    "\n",
    "folder_name = 'Module3B'\n",
    "model_name =  'tfr' #Gaussian object model of endosomes (marked by transferrin receptor)\n",
    "model_file = \"/home/murphylab/cellorganizer/local/models/\" +  model_name + \".mat\"\n",
    "\n",
    "topdir = \"/home/murphylab/cellorganizer/local/results\"\n",
    "outputdir = topdir + \"/\" + folder_name\n",
    "if not os.path.exists(topdir):\n",
    "    os.makedirs(topdir)\n",
    "os.chdir(topdir)\n",
    "if not os.path.exists(outputdir):\n",
    "    os.makedirs(outputdir)\n",
    "os.chdir(outputdir)\n",
    "if not os.path.exists(model_name):\n",
    "    os.makedirs(model_name)\n",
    "os.chdir(model_name)\n",
    "\n",
    "options = {}\n",
    "\n",
    "answer = slml2info([model_file], options)\n",
    "\n",
    "HTML(filename = 'index.html')"
   ]
  },
  {
   "cell_type": "code",
   "execution_count": 2,
   "metadata": {},
   "outputs": [
    {
     "name": "stdout",
     "output_type": "stream",
     "text": [
      "CellOrganizer v2.10 (MATLAB RO2019a)\n"
     ]
    },
    {
     "data": {
      "text/html": [
       "<!DOCTYPE html>\n",
       "<html>\n",
       "<body>\n",
       "\n",
       "<h2>Filename</h2>\n",
       "<p>/home/murphylab/cellorganizer/local/models/lamp2.mat</p>\n",
       "<h2>Model name</h2>\n",
       "<p>3D HeLa classic generative model</p>\n",
       "<h2>Model ID</h2>\n",
       "<p>E24374F2-B39C-476A-BC58-E5696F2FEF2F</p>\n",
       "<h2>Dimensionality</h2>\n",
       "<p>3D</p>\n",
       "<h2>Documentation</h2>\n",
       "<p>Fields and values present in the documentation structure</p><p>notes</p><p>This model was built using CellOrganizer</p><p>website</p><p>http://www.cellorganizer.org</p><p>date</p><p>05-Jun-2018</p><p>author</p><p>CellOrganizer Team</p><p>contact</p><p>cellorganizer@compbio.cmu.edu</p>\n",
       "<h2>Nuclear shape model information</h2>\n",
       "<p>Fields and values present in the submodel</p>\n",
       "<h2>Model Name</h2>\n",
       "<p>3D HeLa nuclear shape model</p>\n",
       "<h2>ID</h2>\n",
       "<p>UNSET</p>\n",
       "<h2>Model Class</h2>\n",
       "<p>nuclear_membrane</p>\n",
       "<h2>Model Type</h2>\n",
       "<p>cylindrical_surface</p>\n",
       "<h2>Model Resolution</h2>\n",
       "<p>[0.245 0.245 0.2]</p>\n",
       "<h2>Cell shape model information</h2>\n",
       "<p>Fields and values present in the submodel</p>\n",
       "<h2>Model Name</h2>\n",
       "<p>3D HeLa cell shape model</p>\n",
       "<h2>ID</h2>\n",
       "<p>UNSET</p>\n",
       "<h2>Model Class</h2>\n",
       "<p>cell_membrane</p>\n",
       "<h2>Model Type</h2>\n",
       "<p>ratio</p>\n",
       "<h2>Model Resolution</h2>\n",
       "<p>[0.245 0.245 0.2]</p>\n",
       "<h2>Protein pattern model information</h2>\n",
       "<p>Fields and values present in the submodel</p>\n",
       "<h2>Model Name</h2>\n",
       "<p>3D HeLa protein model</p>\n",
       "<h2>ID</h2>\n",
       "<p>UNSET</p>\n",
       "<h2>Model Class</h2>\n",
       "<p>vesicle</p>\n",
       "<h2>Model Type</h2>\n",
       "<p>gmm</p>\n",
       "<h2>Model Resolution</h2>\n",
       "<p>[0.049 0.049 0.2]</p></body>\n",
       "</html>"
      ],
      "text/plain": [
       "<IPython.core.display.HTML object>"
      ]
     },
     "execution_count": 2,
     "metadata": {},
     "output_type": "execute_result"
    }
   ],
   "source": [
    "os.chdir(outputdir)\n",
    "model_name =  'lamp2' #Gaussian object model of a lysosomes (marked by LAMP2)\n",
    "if not os.path.exists(model_name):\n",
    "    os.makedirs(model_name)\n",
    "os.chdir(model_name)\n",
    "\n",
    "model_file = \"/home/murphylab/cellorganizer/local/models/\" +  model_name + \".mat\"\n",
    "answer = slml2info([model_file], options)\n",
    "HTML(filename=\"index.html\")"
   ]
  }
 ],
 "metadata": {
  "kernelspec": {
   "display_name": "Python 3",
   "language": "python",
   "name": "python3"
  },
  "language_info": {
   "codemirror_mode": {
    "name": "ipython",
    "version": 3
   },
   "file_extension": ".py",
   "mimetype": "text/x-python",
   "name": "python",
   "nbconvert_exporter": "python",
   "pygments_lexer": "ipython3",
   "version": "3.7.6"
  }
 },
 "nbformat": 4,
 "nbformat_minor": 4
}
