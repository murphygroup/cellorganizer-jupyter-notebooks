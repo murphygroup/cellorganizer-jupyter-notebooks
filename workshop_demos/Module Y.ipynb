{
 "cells": [
  {
   "cell_type": "code",
   "execution_count": null,
   "metadata": {},
   "outputs": [],
   "source": [
    "#import packages\n",
    "import numpy as np\n",
    "from pathlib import Path\n",
    "from cellorganizer.tools import SPHARMparameterization2image"
   ]
  },
  {
   "cell_type": "code",
   "execution_count": null,
   "metadata": {},
   "outputs": [],
   "source": [
    "#setup options\n",
    "options = {}\n",
    "options['spharm_rpdm.synthesis_method'] = 'random_sampling' #random sampling & reconstruction\n",
    "\n",
    "#set where to read the model from\n",
    "directory = '/home/murphylab/cellorganizer/local/models/3D/SPHARM-RPDM/'\n",
    "model_path = directory + 'HeLa_3D_SPHARM_lamp2.mat'"
   ]
  },
  {
   "cell_type": "code",
   "execution_count": null,
   "metadata": {},
   "outputs": [],
   "source": [
    "img_mat = SPHARMparameterization2image(model_path, options)"
   ]
  },
  {
   "cell_type": "code",
   "execution_count": null,
   "metadata": {},
   "outputs": [],
   "source": [
    "img_mat"
   ]
  }
 ],
 "metadata": {
  "kernelspec": {
   "display_name": "Python 3",
   "language": "python",
   "name": "python3"
  },
  "language_info": {
   "codemirror_mode": {
    "name": "ipython",
    "version": 3
   },
   "file_extension": ".py",
   "mimetype": "text/x-python",
   "name": "python",
   "nbconvert_exporter": "python",
   "pygments_lexer": "ipython3",
   "version": "3.7.6"
  }
 },
 "nbformat": 4,
 "nbformat_minor": 4
}
