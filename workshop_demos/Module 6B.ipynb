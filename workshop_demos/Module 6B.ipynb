{
 "cells": [
  {
   "cell_type": "markdown",
   "metadata": {},
   "source": [
    "## Module 6B\n",
    "## This notebook extracts and uses information from a saved CellOrganizer organelle shape model\n",
    "## CellOrganizer models are Matlab structures that are saved as Matlab binary files (MAT-files, file extension .mat)\n",
    "## They can be read into a python dictionary and then operated on using the appropriate keys.\n",
    "### Organelle shape models (type='spharm_obj') have an unusual structure in that the proteinModel object contains a cellModel object.  This is because SPHARM-RPDM shape models originally were only supported for cells and nuclei.  The protein image is segmented into organelle objects which are fed into CellOrganizer as if they were cells.  The resulting model is stored into the proteinModel."
   ]
  },
  {
   "cell_type": "code",
   "execution_count": 1,
   "metadata": {},
   "outputs": [],
   "source": [
    "import h5py\n",
    "import numpy as np\n",
    "#import scipy\n",
    "#import mat73\n",
    "import matplotlib.pyplot as plt\n",
    "from sklearn import linear_model\n",
    "from sklearn.metrics import mean_squared_error, r2_score"
   ]
  },
  {
   "cell_type": "markdown",
   "metadata": {},
   "source": [
    "### There are two different versions of .mat files. Older .mat files (<v7.3) and newer .mat files (>v7.3). They require different readersin python.\n",
    "### Use h5py or mat73 reader for newer .mat files and scipy.io reader for older .mat files"
   ]
  },
  {
   "cell_type": "code",
   "execution_count": 2,
   "metadata": {},
   "outputs": [],
   "source": [
    "## use mat73\n",
    "#load in mat file - => v7.3\n",
    "# use mat73\n",
    "#data_dict = mat73.loadmat('xxx.mat')\n",
    "#data_dict"
   ]
  },
  {
   "cell_type": "code",
   "execution_count": 3,
   "metadata": {},
   "outputs": [],
   "source": [
    "## or use h5py\n",
    "f = h5py.File('/home/murphylab/cellorganizer/local/models/mito_GT_model.mat', 'r')"
   ]
  },
  {
   "cell_type": "markdown",
   "metadata": {},
   "source": [
    "### examine the structure of the model"
   ]
  },
  {
   "cell_type": "code",
   "execution_count": 4,
   "metadata": {},
   "outputs": [
    {
     "data": {
      "text/plain": [
       "['#refs#', 'model']"
      ]
     },
     "execution_count": 4,
     "metadata": {},
     "output_type": "execute_result"
    }
   ],
   "source": [
    "list(f.keys())"
   ]
  },
  {
   "cell_type": "code",
   "execution_count": 5,
   "metadata": {},
   "outputs": [
    {
     "data": {
      "text/plain": [
       "['dataset',\n",
       " 'dimensionality',\n",
       " 'documentation',\n",
       " 'filename',\n",
       " 'id',\n",
       " 'name',\n",
       " 'proteinModel']"
      ]
     },
     "execution_count": 5,
     "metadata": {},
     "output_type": "execute_result"
    }
   ],
   "source": [
    "model = f['model']\n",
    "list(model.keys())"
   ]
  },
  {
   "cell_type": "code",
   "execution_count": 6,
   "metadata": {},
   "outputs": [
    {
     "data": {
      "text/plain": [
       "['class',\n",
       " 'dimensionality',\n",
       " 'id',\n",
       " 'name',\n",
       " 'resolution',\n",
       " 'spharm_obj_model',\n",
       " 'type']"
      ]
     },
     "execution_count": 6,
     "metadata": {},
     "output_type": "execute_result"
    }
   ],
   "source": [
    "proteinModel = model['proteinModel']\n",
    "list(proteinModel.keys())"
   ]
  },
  {
   "cell_type": "code",
   "execution_count": 7,
   "metadata": {},
   "outputs": [],
   "source": [
    "#load in mat file - < v7.3\n",
    "#data_dict = scipy.io('')"
   ]
  },
  {
   "cell_type": "code",
   "execution_count": 8,
   "metadata": {},
   "outputs": [
    {
     "data": {
      "text/plain": [
       "['cellShapeModel',\n",
       " 'dataset',\n",
       " 'dimensionality',\n",
       " 'documentation',\n",
       " 'filename',\n",
       " 'id',\n",
       " 'name',\n",
       " 'spatial']"
      ]
     },
     "execution_count": 8,
     "metadata": {},
     "output_type": "execute_result"
    }
   ],
   "source": [
    "spharm_obj_model = proteinModel['spharm_obj_model']\n",
    "list(spharm_obj_model.keys())"
   ]
  },
  {
   "cell_type": "code",
   "execution_count": 9,
   "metadata": {},
   "outputs": [
    {
     "data": {
      "text/plain": [
       "['cell_membrane_images',\n",
       " 'labels',\n",
       " 'nuclear_membrane_images',\n",
       " 'parameterization',\n",
       " 'protein_images']"
      ]
     },
     "execution_count": 9,
     "metadata": {},
     "output_type": "execute_result"
    }
   ],
   "source": [
    "dataset = spharm_obj_model['dataset']\n",
    "list(dataset)"
   ]
  },
  {
   "cell_type": "code",
   "execution_count": 10,
   "metadata": {},
   "outputs": [
    {
     "data": {
      "text/plain": [
       "['X',\n",
       " 'all_centers',\n",
       " 'all_spharm_descriptors',\n",
       " 'cell_params',\n",
       " 'cell_params_fname',\n",
       " 'class',\n",
       " 'coeff',\n",
       " 'components',\n",
       " 'explained',\n",
       " 'hausdorff_distances',\n",
       " 'id',\n",
       " 'latent',\n",
       " 'latent_dim',\n",
       " 'max_deg',\n",
       " 'mu',\n",
       " 'name',\n",
       " 'nuc_params',\n",
       " 'numimgs',\n",
       " 'options',\n",
       " 'parameterization_successful',\n",
       " 'resolution',\n",
       " 'rpdm_model_type',\n",
       " 'scales',\n",
       " 'score',\n",
       " 'shape_model_type',\n",
       " 'train_coeff',\n",
       " 'train_explained',\n",
       " 'train_score',\n",
       " 'tsquared',\n",
       " 'type',\n",
       " 'version']"
      ]
     },
     "execution_count": 10,
     "metadata": {},
     "output_type": "execute_result"
    }
   ],
   "source": [
    "cellShapeModel = spharm_obj_model['cellShapeModel']\n",
    "list(cellShapeModel.keys())"
   ]
  },
  {
   "cell_type": "markdown",
   "metadata": {},
   "source": [
    "### first consider the object shape parameterizations"
   ]
  },
  {
   "cell_type": "code",
   "execution_count": 11,
   "metadata": {},
   "outputs": [
    {
     "data": {
      "text/plain": [
       "<HDF5 dataset \"X\": shape (6138, 2551), type \"<f8\">"
      ]
     },
     "execution_count": 11,
     "metadata": {},
     "output_type": "execute_result"
    }
   ],
   "source": [
    "# this holds the full spherical harmonic descriptors for each object\n",
    "cellShapeModel['X']"
   ]
  },
  {
   "cell_type": "code",
   "execution_count": 12,
   "metadata": {},
   "outputs": [
    {
     "data": {
      "text/plain": [
       "<HDF5 dataset \"train_score\": shape (15, 2551), type \"<f8\">"
      ]
     },
     "execution_count": 12,
     "metadata": {},
     "output_type": "execute_result"
    }
   ],
   "source": [
    "# this holds the PCA reduced descriptors for each object (first n PCs)\n",
    "cellShapeModel['train_score']"
   ]
  },
  {
   "cell_type": "code",
   "execution_count": 13,
   "metadata": {},
   "outputs": [
    {
     "data": {
      "text/plain": [
       "<HDF5 dataset \"mu\": shape (6138, 1), type \"<f8\">"
      ]
     },
     "execution_count": 13,
     "metadata": {},
     "output_type": "execute_result"
    }
   ],
   "source": [
    "# this holds the mean coefficients\n",
    "cellShapeModel['mu']"
   ]
  },
  {
   "cell_type": "code",
   "execution_count": 14,
   "metadata": {},
   "outputs": [
    {
     "data": {
      "text/plain": [
       "<HDF5 dataset \"train_coeff\": shape (15, 6138), type \"<f8\">"
      ]
     },
     "execution_count": 14,
     "metadata": {},
     "output_type": "execute_result"
    }
   ],
   "source": [
    "# this holds the coefficients for reconstructing the full descriptors from the reduced descriptors\n",
    "cellShapeModel['train_coeff']"
   ]
  },
  {
   "cell_type": "code",
   "execution_count": 15,
   "metadata": {},
   "outputs": [
    {
     "name": "stdout",
     "output_type": "stream",
     "text": [
      "(6138, 1)\n",
      "(6138,)\n",
      "(15,)\n",
      "(6138,)\n"
     ]
    }
   ],
   "source": [
    "# calculate the full descriptors for the first object\n",
    "train_score = cellShapeModel['train_score']\n",
    "train_coeff = cellShapeModel['train_coeff']\n",
    "mud = cellShapeModel['mu']\n",
    "print(mud.shape)\n",
    "# extract the array from the dataset\n",
    "mu = mud[:,0]\n",
    "print(mu.shape)\n",
    "# get the reducted descriptors for the first object\n",
    "obj1reduced = train_score[:,0]\n",
    "print(obj1reduced.shape)\n",
    "# calculates the full shape descriptors from the reduced descriptors of the first object\n",
    "obj1full = np.matmul(obj1reduced,train_coeff) + mu\n",
    "print(obj1full.shape)"
   ]
  },
  {
   "cell_type": "markdown",
   "metadata": {},
   "source": [
    "### now consider the spatial model: position of each object in idealized spherical cell"
   ]
  },
  {
   "cell_type": "code",
   "execution_count": 16,
   "metadata": {},
   "outputs": [
    {
     "data": {
      "text/plain": [
       "['anglesphi', 'anglestheta', 'beta', 'distcodes', 'mappos_x', 'normdists']"
      ]
     },
     "execution_count": 16,
     "metadata": {},
     "output_type": "execute_result"
    }
   ],
   "source": [
    "spatial = spharm_obj_model['spatial']\n",
    "list(spatial.keys())"
   ]
  },
  {
   "cell_type": "code",
   "execution_count": 17,
   "metadata": {},
   "outputs": [
    {
     "name": "stdout",
     "output_type": "stream",
     "text": [
      "<HDF5 dataset \"anglesphi\": shape (2551, 1), type \"<f8\"> <HDF5 dataset \"anglestheta\": shape (2551, 1), type \"<f8\"> <HDF5 dataset \"normdists\": shape (2551, 1), type \"<f4\">\n"
     ]
    }
   ],
   "source": [
    "anglesphi=spatial['anglesphi']\n",
    "anglestheta=spatial['anglestheta']\n",
    "normdists=spatial['normdists']\n",
    "print(anglesphi,anglestheta,normdists)"
   ]
  },
  {
   "cell_type": "markdown",
   "metadata": {},
   "source": [
    "### see if there is a relationships between shape and position\n",
    "### (try to predict object distance from the cell center from the shape coordinates)"
   ]
  },
  {
   "cell_type": "code",
   "execution_count": 18,
   "metadata": {},
   "outputs": [
    {
     "name": "stdout",
     "output_type": "stream",
     "text": [
      "Coefficients: \n",
      " [-0.01161167  0.04999194 -0.07945975  0.03337968  0.02088632 -0.05033602\n",
      "  0.13304315  0.03420998 -0.02496661  0.0874832  -0.08094277  0.03125102\n",
      "  0.08032003 -0.12681485 -0.18754547]\n",
      "MSE= 0.080233442972745\n",
      "R2= 0.005461189031688685\n"
     ]
    }
   ],
   "source": [
    "objdists = normdists[:,0]\n",
    "shapedesc = np.transpose(train_score)\n",
    "regress = linear_model.LinearRegression()\n",
    "regress.fit(shapedesc,objdists)\n",
    "print(\"Coefficients: \\n\", regress.coef_)\n",
    "predict = regress.predict(shapedesc)\n",
    "print(\"MSE=\",mean_squared_error(objdists,predict))\n",
    "print(\"R2=\",r2_score(objdists,predict))"
   ]
  },
  {
   "cell_type": "markdown",
   "metadata": {},
   "source": [
    "the low R2 indicates that there is no linear relationship between the two"
   ]
  },
  {
   "cell_type": "markdown",
   "metadata": {},
   "source": [
    "### now look at object sizes"
   ]
  },
  {
   "cell_type": "code",
   "execution_count": 19,
   "metadata": {},
   "outputs": [
    {
     "name": "stdout",
     "output_type": "stream",
     "text": [
      "<HDF5 dataset \"scales\": shape (1, 2551), type \"<f8\">\n"
     ]
    }
   ],
   "source": [
    "sc = cellShapeModel['scales']\n",
    "print(sc)\n",
    "scales = sc[0,:]"
   ]
  },
  {
   "cell_type": "code",
   "execution_count": 20,
   "metadata": {},
   "outputs": [
    {
     "data": {
      "text/plain": [
       "Text(0.5, 1.0, 'Object sizes')"
      ]
     },
     "execution_count": 20,
     "metadata": {},
     "output_type": "execute_result"
    },
    {
     "data": {
      "image/png": "[encoded data removed]",
      "text/plain": [
       "<Figure size 432x288 with 1 Axes>"
      ]
     },
     "metadata": {
      "needs_background": "light"
     },
     "output_type": "display_data"
    }
   ],
   "source": [
    "plt.hist(x=scales, bins='auto')\n",
    "plt.xlabel('Size')\n",
    "plt.ylabel('Frequency')\n",
    "plt.title('Object sizes')"
   ]
  },
  {
   "cell_type": "markdown",
   "metadata": {},
   "source": [
    "### see if there is a correlation between shape and size"
   ]
  },
  {
   "cell_type": "code",
   "execution_count": 21,
   "metadata": {},
   "outputs": [
    {
     "name": "stdout",
     "output_type": "stream",
     "text": [
      "R= [[ 1.         -0.06131907]\n",
      " [-0.06131907  1.        ]]\n"
     ]
    }
   ],
   "source": [
    "print(\"R=\",np.corrcoef(objdists,scales))"
   ]
  },
  {
   "cell_type": "markdown",
   "metadata": {},
   "source": [
    "again, weak relationship"
   ]
  },
  {
   "cell_type": "markdown",
   "metadata": {},
   "source": [
    "### this is how we can get the filenames corresponding to each object"
   ]
  },
  {
   "cell_type": "code",
   "execution_count": 22,
   "metadata": {},
   "outputs": [
    {
     "name": "stdout",
     "output_type": "stream",
     "text": [
      "<HDF5 dataset \"cell_params\": shape (2551, 3, 1024), type \"|V16\">\n",
      "<HDF5 dataset \"numimgs\": shape (1, 1), type \"<f8\">\n",
      "[2551.]\n",
      "<HDF5 dataset \"cell_params_fname\": shape (2551, 1), type \"|O\">\n",
      "[<HDF5 object reference>]\n"
     ]
    }
   ],
   "source": [
    "cell_params = cellShapeModel['cell_params']\n",
    "print(cell_params)\n",
    "numimgs = cellShapeModel['numimgs']\n",
    "print(numimgs)\n",
    "print(numimgs[0])\n",
    "cell_params_fname = cellShapeModel['cell_params_fname']\n",
    "print(cell_params_fname)\n",
    "print(cell_params_fname[0])"
   ]
  },
  {
   "cell_type": "markdown",
   "metadata": {},
   "source": [
    "### examine quality of shape parameterizations"
   ]
  },
  {
   "cell_type": "code",
   "execution_count": 23,
   "metadata": {},
   "outputs": [
    {
     "name": "stdout",
     "output_type": "stream",
     "text": [
      "<HDF5 dataset \"hausdorff_distances\": shape (2551, 1), type \"<f8\">\n"
     ]
    },
    {
     "data": {
      "text/plain": [
       "Text(0, 0.5, 'Frequency')"
      ]
     },
     "execution_count": 23,
     "metadata": {},
     "output_type": "execute_result"
    },
    {
     "data": {
      "image/png": "[encoded data removed]",
      "text/plain": [
       "<Figure size 432x288 with 1 Axes>"
      ]
     },
     "metadata": {
      "needs_background": "light"
     },
     "output_type": "display_data"
    }
   ],
   "source": [
    "hd = cellShapeModel['hausdorff_distances']\n",
    "print(hd)\n",
    "hd = hd[:,0]\n",
    "plt.hist(x=hd, bins='auto')\n",
    "plt.xlabel('Hausdorff Distance')\n",
    "plt.ylabel('Frequency')"
   ]
  },
  {
   "cell_type": "code",
   "execution_count": 24,
   "metadata": {},
   "outputs": [],
   "source": [
    "f.close()"
   ]
  },
  {
   "cell_type": "code",
   "execution_count": null,
   "metadata": {},
   "outputs": [],
   "source": []
  },
  {
   "cell_type": "code",
   "execution_count": null,
   "metadata": {},
   "outputs": [],
   "source": []
  },
  {
   "cell_type": "code",
   "execution_count": null,
   "metadata": {},
   "outputs": [],
   "source": []
  }
 ],
 "metadata": {
  "kernelspec": {
   "display_name": "Python 3",
   "language": "python",
   "name": "python3"
  },
  "language_info": {
   "codemirror_mode": {
    "name": "ipython",
    "version": 3
   },
   "file_extension": ".py",
   "mimetype": "text/x-python",
   "name": "python",
   "nbconvert_exporter": "python",
   "pygments_lexer": "ipython3",
   "version": "3.7.6"
  }
 },
 "nbformat": 4,
 "nbformat_minor": 5
}
