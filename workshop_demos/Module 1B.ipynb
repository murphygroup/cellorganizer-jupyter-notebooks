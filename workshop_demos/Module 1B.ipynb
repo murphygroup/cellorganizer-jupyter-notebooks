{
 "cells": [
  {
   "cell_type": "markdown",
   "metadata": {},
   "source": [
    "## Module 1B\n",
    "## Tutorial 1 covers how to organize your own images for use with CellOrganizer and illustrates building different types of models. Typically, telling CellOrganizer what files to use to construct a model is done using wildcards (e.g., “Expt1Sample*Nuclear.tif”), and it is helpful to organize your files to facilitate this.\n",
    "## Module 1B builds a better model using SPHARM-RPDM for both the nucleus and the cell surface but to save compute time downsamples the images before building the model.\n",
    "--> to make Module 1B from Module 1A, just uncomment options for SPHARM-RPDM postprocessing\n",
    "\n",
    "--> change 'downsampling' to 16,16,4\n",
    "\n",
    "--> change 'cell.type' from 'ratio' to 'spharm_rpdm' and\n",
    "\n",
    "--> change 'nucleus_type' from 'cylindrical surface' to 'spharm_rpdm'\n",
    "\n",
    "### Run the cell below to set up basic parameters:"
   ]
  },
  {
   "cell_type": "code",
   "execution_count": 25,
   "metadata": {},
   "outputs": [],
   "source": [
    "from cellorganizer.tools import img2slml\n",
    "import datetime\n",
    "import glob\n",
    "import urllib.request\n",
    "import os\n",
    "import uuid\n",
    "\n",
    "model_name = \"Module1B\"\n",
    "module_name = model_name\n",
    "topdir = \"/home/murphylab/cellorganizer/local/results\"\n",
    "outputdir = topdir + \"/\" + module_name\n",
    "if not os.path.exists(topdir):\n",
    "    os.makedirs(topdir)\n",
    "os.chdir(topdir)\n",
    "os.system(\"ls\")\n",
    "\n",
    "options = {}\n",
    "\n",
    "#set general options\n",
    "options[\"model.name\"] = module_name\n",
    "options[\"model.filename\"] = module_name + '.mat'\n",
    "options[\"output_filename\"] = module_name \n",
    "options[\"verbose\"] = 0\n",
    "options[\"debug\"] = 0\n",
    "options[\"display\"] = 0\n",
    "options[\"model.id\"] = str (uuid.uuid1())\n",
    "options[\"downsampling\"] = [16, 16, 4]\n",
    "options[\"model.resolution\"] = [0.049, 0.049, 0.2000]\n",
    "options[\"if_skip_cell_nuclear_model\"] = 0\n",
    "\n",
    "# these options are only used for SPHARM-RPDM models\n",
    "# postprocess of parameterization: alignment\n",
    "options[\"model.spharm_rpdm.postprocess\"] = 1\n",
    "# # alignment method: 'major_axis' or 'foe'\n",
    "options[\"model.spharm_rpdm.alignment_method\"] = 'major_axis'\n",
    "# # plane of rotation: 'xy', 'xz', 'yz' or 'xyz'\n",
    "options[\"model.spharm_rpdm.rotation_plane\"] = 'xy'\n",
    "# # degree of the descriptor\n",
    "options[\"model.spharm_rpdm.maxDeg\"] = 31\n",
    "# # latent dimension for the model\n",
    "options[\"model.spharm_rpdm.latent_dim\"] = 15\n",
    "options[\"model.spharm_rpdm.segminnucfraction\"] = 0.1"
   ]
  },
  {
   "cell_type": "markdown",
   "metadata": {},
   "source": [
    "### Set up what kind of model is being created:"
   ]
  },
  {
   "cell_type": "code",
   "execution_count": 26,
   "metadata": {},
   "outputs": [],
   "source": [
    "#set options that control what kind of model is created\n",
    "options[\"train.flag\"] = 'framework'\n",
    "options[\"cell.class\"] = 'cell_membrane'\n",
    "#simplest cell shape model - ratio to nuclear model\n",
    "#options[\"cell.type\"] = 'ratio'\n",
    "#best cell shape model - spharm_rpdm - see demo3D50 and demo3D52 for more options\n",
    "options[\"cell.type\"] = 'spharm_rpdm'\n",
    "# if we are going to include nuclear/DNA images\n",
    "options[\"nucleus.class\"] = 'nuclear_membrane'\n",
    "#simplest nuclear shape model - cylindrical surface\n",
    "#options[\"nucleus.type\"] = 'cylindrical_surface'\n",
    "#best nuclear shape model - spharm_rpdm - see demo3D52 for more options\n",
    "options[\"nucleus.type\"] = 'spharm_rpdm'\n",
    "#options[\"model.spharm_rpdm.components\"] = {'cell'}\n",
    "options[\"model.spharm_rpdm.components\"] = {'nuc', 'cell'}\n",
    "options[\"hd_threshold\"] = 10\n",
    "options[\"hd_thresh\"] = 10"
   ]
  },
  {
   "cell_type": "markdown",
   "metadata": {},
   "source": [
    "### Ideally, put all files to be used to build a model into a single directory (but all files for a single channel could be in a subdirectory).  The idea is to allow wildcards to be used easily.  Three examples are shown below for different ways that cells and channels might be organized into files.\n",
    "\n",
    "### The examples use provided images - you can change the directory and filenames for your own data\n",
    "\n",
    "### >>> You can change the method number below to choose a different method appropriate for your files <<<"
   ]
  },
  {
   "cell_type": "code",
   "execution_count": 27,
   "metadata": {},
   "outputs": [],
   "source": [
    "options[\"masks\"] = []\n",
    "dnaImagesDirectoryPath = []\n",
    "cellImagesDirectoryPath = []\n",
    "method=1"
   ]
  },
  {
   "cell_type": "markdown",
   "metadata": {},
   "source": [
    "### Single file for each cell and channel.  In this case, no masks are needed to identify single cells in multicell images."
   ]
  },
  {
   "cell_type": "code",
   "execution_count": 28,
   "metadata": {},
   "outputs": [],
   "source": [
    "if method==1:\n",
    "    directory = '/home/murphylab/cellorganizer/local/images/HeLa/3D/processed/'\n",
    "\n",
    "    file_pattern = 'LAM_cell1?_ch1_t1.tif'\n",
    "    for name in glob.glob(directory + file_pattern):\n",
    "        cellImagesDirectoryPath.append(name)\n",
    "\n",
    "    file_pattern = 'LAM_cell1?_ch0_t1.tif'\n",
    "    for name in glob.glob(directory + file_pattern):\n",
    "        dnaImagesDirectoryPath.append(name)\n",
    "\n",
    "    cellImagesDirectoryPath.sort()\n",
    "    dnaImagesDirectoryPath.sort()\n",
    "\n",
    "    cellImagesDirectoryPath = cellImagesDirectoryPath[0:3]\n",
    "    dnaImagesDirectoryPath = dnaImagesDirectoryPath[0:3]"
   ]
  },
  {
   "cell_type": "markdown",
   "metadata": {},
   "source": [
    "### Single file for each channel, but cropping is needed to ensure that only a single cell is processed from each image.   This case adds a file with a single binary mask for each cell."
   ]
  },
  {
   "cell_type": "code",
   "execution_count": 29,
   "metadata": {},
   "outputs": [],
   "source": [
    "if method==2:\n",
    "    directory = '/home/murphylab/cellorganizer/local/images/HeLa/3D/processed/'\n",
    "\n",
    "    file_pattern = 'LAM_cell1?_mask_t1.tif'\n",
    "    for name in glob.glob(directory + file_pattern):\n",
    "        options[\"masks\"].append(name)\n",
    "\n",
    "    file_pattern = 'LAM_cell1?_ch1_t1.tif'\n",
    "    for name in glob.glob(directory + file_pattern):\n",
    "        cellImagesDirectoryPath.append(name)\n",
    "\n",
    "    file_pattern = 'LAM_cell1?_ch0_t1.tif'\n",
    "    for name in glob.glob(directory + file_pattern):\n",
    "        dnaImagesDirectoryPath.append(name)\n",
    "\n",
    "    cellImagesDirectoryPath.sort()\n",
    "    dnaImagesDirectoryPath.sort()\n",
    "    options[\"masks\"].sort()\n",
    "\n",
    "    cellImagesDirectoryPath = cellImagesDirectoryPath[0:3]\n",
    "    dnaImagesDirectoryPath = dnaImagesDirectoryPath[0:3]"
   ]
  },
  {
   "cell_type": "markdown",
   "metadata": {},
   "source": [
    "### Multiple cells with multiple channels using OME-TIFF files with ROIs (Regions of Interests).  This is the most common case.  The channel number and time point to use from each file is specified using colons.  First number is channel, second number is timepoint."
   ]
  },
  {
   "cell_type": "code",
   "execution_count": 30,
   "metadata": {},
   "outputs": [],
   "source": [
    "if method==3:\n",
    "    directory = '/home/murphylab/cellorganizer/local/images/ometiff_with_rois/'\n",
    "\n",
    "    file_pattern = 'hela_3d_processed_lam_cell?.ome.tif'\n",
    "    for name in glob.glob(directory + file_pattern):\n",
    "        cellImagesDirectoryPath.append(name + ':1:0')\n",
    "        dnaImagesDirectoryPath.append(name + ':2:0')\n",
    "\n",
    "    cellImagesDirectoryPath.sort()\n",
    "    dnaImagesDirectoryPath.sort()"
   ]
  },
  {
   "cell_type": "code",
   "execution_count": 31,
   "metadata": {},
   "outputs": [
    {
     "name": "stdout",
     "output_type": "stream",
     "text": [
      "CellOrganizer v2.10 (MATLAB RO2019a)\n"
     ]
    }
   ],
   "source": [
    "outputdir = topdir + \"/\" + module_name + \"method\" + str(method)\n",
    "if not os.path.exists(outputdir):\n",
    "    os.makedirs(outputdir)\n",
    "os.chdir(outputdir)\n",
    "os.system(\"ls\")\n",
    "answer = img2slml('3D', dnaImagesDirectoryPath, cellImagesDirectoryPath, [], options)"
   ]
  },
  {
   "cell_type": "code",
   "execution_count": 32,
   "metadata": {},
   "outputs": [
    {
     "name": "stdout",
     "output_type": "stream",
     "text": [
      "The model Module1B.mat has been created in /home/murphylab/cellorganizer/local/results/Module1Bmethod1\n"
     ]
    }
   ],
   "source": [
    "if answer:\n",
    "    print('The model ' + model_name + '.mat has been created in ' + outputdir)"
   ]
  }
 ],
 "metadata": {
  "kernelspec": {
   "display_name": "Python 3",
   "language": "python",
   "name": "python3"
  },
  "language_info": {
   "codemirror_mode": {
    "name": "ipython",
    "version": 3
   },
   "file_extension": ".py",
   "mimetype": "text/x-python",
   "name": "python",
   "nbconvert_exporter": "python",
   "pygments_lexer": "ipython3",
   "version": "3.7.6"
  }
 },
 "nbformat": 4,
 "nbformat_minor": 4
}
