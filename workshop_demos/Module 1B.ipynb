{
 "cells": [
  {
   "cell_type": "markdown",
   "metadata": {},
   "source": [
    "## This tutorial covers how to organize your own images for use with CellOrganizer.  Typically, telling CellOrganizer what files to use to construct a model is done using wildcards (e.g., “Expt1Sample*Nuclear.tif”), and it is helpful to organize your files to facilitate this.  \n",
    "\n",
    "### Run the cell below to set up basic parameters:"
   ]
  },
  {
   "cell_type": "code",
   "execution_count": 1,
   "metadata": {},
   "outputs": [],
   "source": [
    "from cellorganizer.tools import img2slml\n",
    "from cellorganizer.tools import slml2info\n",
    "import datetime\n",
    "import glob\n",
    "import urllib.request\n",
    "import os\n",
    "import uuid\n",
    "from IPython.core.display import display, HTML, Image\n",
    "\n",
    "model_name = \"Module1b\"\n",
    "module_name = model_name\n",
    "topdir = \"/home/murphylab/cellorganizer/local/results\"\n",
    "outputdir = topdir + \"/\" + module_name\n",
    "if not os.path.exists(topdir):\n",
    "    os.makedirs(topdir)\n",
    "os.chdir(topdir)\n",
    "os.system(\"ls\")\n",
    "if not os.path.exists(outputdir):\n",
    "    os.makedirs(outputdir)\n",
    "os.chdir(outputdir)\n",
    "os.system(\"ls\")\n",
    "if not os.path.exists(model_name):\n",
    "    os.makedirs(model_name)\n",
    "os.chdir(model_name)\n",
    "os.system(\"ls\")\n",
    "\n",
    "options = {}\n",
    "\n",
    "#set general options\n",
    "options[\"model.name\"] = module_name\n",
    "options[\"model.filename\"] = module_name + '.mat'\n",
    "options[\"output_filename\"] = module_name \n",
    "options[\"verbose\"] = 0\n",
    "options[\"debug\"] = 0\n",
    "options[\"display\"] = 0\n",
    "options[\"model.id\"] = str (uuid.uuid1())\n",
    "options[\"downsampling\"] = [5, 5, 1]\n",
    "options[\"model.resolution\"] = [0.049, 0.049, 0.2000]\n",
    "#options[\"if_skip_cell_nuclear_model\"] = 1\n",
    "\n",
    "\n",
    "# postprocess of parameterization: alignment\n",
    "# options[\"model.spharm_rpdm.postprocess\"] = 'true'\n",
    "# # alignment method: 'major_axis' or 'foe'\n",
    "# options[\"model.spharm_rpdm.alignment_method\"] = 'major_axis'\n",
    "# # plane of rotation: 'xy', 'xz', 'yz' or 'xyz'\n",
    "# options[\"model.spharm_rpdm.rotation_plane\"] = 'xy'\n",
    "# # degree of the descriptor\n",
    "# options[\"model.spharm_rpdm.maxDeg\"] = 31\n",
    "# # latent dimension for the model\n",
    "# options[\"model.spharm_rpdm.latent_dim\"] = 15\n",
    "# options[\"model.spharm_rpdm.segminnucfraction\"] = 0.1"
   ]
  },
  {
   "cell_type": "markdown",
   "metadata": {},
   "source": [
    "### Set up what kind of model is being created:"
   ]
  },
  {
   "cell_type": "code",
   "execution_count": 2,
   "metadata": {},
   "outputs": [],
   "source": [
    "#set options that control what kind of model is created\n",
    "options[\"train.flag\"] = 'framework'\n",
    "options[\"cell.class\"] = 'cell_membrane'\n",
    "#simplest cell shape model - ratio to nuclear model\n",
    "#options[\"cell.type\"] = 'ratio'\n",
    "#best cell shape model - spharm_rpdm - see demo3D50 and demo3D52 for more options\n",
    "options[\"cell.type\"] = 'spharm_rpdm'\n",
    "# if we are going to include nuclear/DNA images\n",
    "options[\"nucleus.class\"] = 'nuclear_membrane'\n",
    "#simplest nuclear shape model - cylindrical surface\n",
    "#options[\"nucleus.type\"] = 'cylindrical_surface'\n",
    "#best nuclear shape model - spharm_rpdm - see demo3D52 for more options\n",
    "options[\"nucleus.type\"] = 'spharm_rpdm'\n",
    "#options[\"model.spharm_rpdm.components\"] = {'cell'}\n",
    "options[\"model.spharm_rpdm.components\"] = {'nuc', 'cell'}\n",
    "options[\"hd_thresh\"] = 1.0"
   ]
  },
  {
   "cell_type": "markdown",
   "metadata": {},
   "source": [
    "### Put your files into a directory, ideally seperated by channel (cell, nuclear, protein). So that one directory holds identical files of the same channel."
   ]
  },
  {
   "cell_type": "markdown",
   "metadata": {},
   "source": [
    "### Single file for each cell and channel:"
   ]
  },
  {
   "cell_type": "code",
   "execution_count": 3,
   "metadata": {},
   "outputs": [],
   "source": [
    "options[\"masks\"] = []\n",
    "\n",
    "directory = '/home/murphylab/cellorganizer/local/images/HeLa/3D/processed/'\n",
    "dnaImagesDirectoryPath = []\n",
    "cellImagesDirectoryPath = []\n",
    "\n",
    "file_pattern = 'LAM_cell1?_ch1_t1.tif'\n",
    "for name in glob.glob(directory + file_pattern):\n",
    "    cellImagesDirectoryPath.append(name)\n",
    "    \n",
    "file_pattern = 'LAM_cell1?_ch0_t1.tif'\n",
    "for name in glob.glob(directory + file_pattern):\n",
    "    dnaImagesDirectoryPath.append(name)\n",
    "    \n",
    "cellImagesDirectoryPath.sort()\n",
    "dnaImagesDirectoryPath.sort()\n",
    "\n",
    "cellImagesDirectoryPath = cellImagesDirectoryPath[0:3]\n",
    "dnaImagesDirectoryPath = dnaImagesDirectoryPath[0:3]"
   ]
  },
  {
   "cell_type": "markdown",
   "metadata": {},
   "source": [
    "### Multiple Cells and single channel with binary mask"
   ]
  },
  {
   "cell_type": "code",
   "execution_count": 4,
   "metadata": {},
   "outputs": [],
   "source": [
    "# options[\"masks\"] = []\n",
    "\n",
    "# directory = '/home/murphylab/cellorganizer/local/images/HeLa/3D/processed/'\n",
    "# dnaImagesDirectoryPath = []\n",
    "# cellImagesDirectoryPath = []\n",
    "\n",
    "# file_pattern = 'LAM_cell1?_mask_t1.tif'\n",
    "# for name in glob.glob(directory + file_pattern):\n",
    "#     options[\"masks\"].append(name)\n",
    "\n",
    "# file_pattern = 'LAM_cell1?_ch1_t1.tif'\n",
    "# for name in glob.glob(directory + file_pattern):\n",
    "#     cellImagesDirectoryPath.append(name)\n",
    "    \n",
    "# file_pattern = 'LAM_cell1?_ch0_t1.tif'\n",
    "# for name in glob.glob(directory + file_pattern):\n",
    "#     dnaImagesDirectoryPath.append(name)\n",
    "\n",
    "# cellImagesDirectoryPath.sort()\n",
    "# dnaImagesDirectoryPath.sort()\n",
    "# options[\"masks\"].sort()\n",
    "\n",
    "# cellImagesDirectoryPath = cellImagesDirectoryPath[0:3]\n",
    "# dnaImagesDirectoryPath = dnaImagesDirectoryPath[0:3]"
   ]
  },
  {
   "cell_type": "markdown",
   "metadata": {},
   "source": [
    "### Multiple cells with multiple channels using OME-TIFF files with ROIs (Regions of Interests)"
   ]
  },
  {
   "cell_type": "code",
   "execution_count": 5,
   "metadata": {},
   "outputs": [],
   "source": [
    "#options[\"masks\"] = []\n",
    "\n",
    "#directory = '/home/murphylab/cellorganizer/local/images/ometiff_with_rois/'\n",
    "#dnaImagesDirectoryPath = []\n",
    "#cellImagesDirectoryPath = []\n",
    "\n",
    "#file_pattern = 'hela_3d_processed_lam_cell?.ome.tif'\n",
    "#for name in glob.glob(directory + file_pattern):\n",
    "#    cellImagesDirectoryPath.append(name + ':1:0')\n",
    "#    dnaImagesDirectoryPath.append(name + ':2:0')\n",
    "\n",
    "#cellImagesDirectoryPath.sort()\n",
    "#dnaImagesDirectoryPath.sort()"
   ]
  },
  {
   "cell_type": "code",
   "execution_count": 6,
   "metadata": {},
   "outputs": [],
   "source": [
    "answer = img2slml('3D', dnaImagesDirectoryPath, cellImagesDirectoryPath, [], options)"
   ]
  },
  {
   "cell_type": "markdown",
   "metadata": {},
   "source": [
    "### Feel free to edit the three different options with the path to your own images!"
   ]
  },
  {
   "cell_type": "code",
   "execution_count": 7,
   "metadata": {},
   "outputs": [
    {
     "ename": "PermissionError",
     "evalue": "[Errno 1] Operation not permitted: 'input.txt'",
     "output_type": "error",
     "traceback": [
      "\u001b[0;31m---------------------------------------------------------------------------\u001b[0m",
      "\u001b[0;31mPermissionError\u001b[0m                           Traceback (most recent call last)",
      "\u001b[0;32m<ipython-input-7-ea940b6bd938>\u001b[0m in \u001b[0;36m<module>\u001b[0;34m\u001b[0m\n\u001b[1;32m      1\u001b[0m \u001b[0moptionsinfo\u001b[0m\u001b[0;34m=\u001b[0m\u001b[0;34m{\u001b[0m\u001b[0;34m}\u001b[0m\u001b[0;34m\u001b[0m\u001b[0;34m\u001b[0m\u001b[0m\n\u001b[0;32m----> 2\u001b[0;31m \u001b[0manswer\u001b[0m \u001b[0;34m=\u001b[0m \u001b[0mslml2info\u001b[0m\u001b[0;34m(\u001b[0m\u001b[0;34m[\u001b[0m\u001b[0mmodule_name\u001b[0m \u001b[0;34m+\u001b[0m \u001b[0;34m\".mat\"\u001b[0m\u001b[0;34m]\u001b[0m\u001b[0;34m,\u001b[0m\u001b[0moptionsinfo\u001b[0m\u001b[0;34m)\u001b[0m\u001b[0;34m\u001b[0m\u001b[0;34m\u001b[0m\u001b[0m\n\u001b[0m\u001b[1;32m      3\u001b[0m \u001b[0;34m\u001b[0m\u001b[0m\n\u001b[1;32m      4\u001b[0m \u001b[0mHTML\u001b[0m\u001b[0;34m(\u001b[0m\u001b[0mfilename\u001b[0m\u001b[0;34m=\u001b[0m\u001b[0;34m\"index.html\"\u001b[0m\u001b[0;34m)\u001b[0m\u001b[0;34m\u001b[0m\u001b[0;34m\u001b[0m\u001b[0m\n",
      "\u001b[0;32m/opt/conda/lib/python3.7/site-packages/cellorganizer/tools.py\u001b[0m in \u001b[0;36mslml2info\u001b[0;34m(filenames, options)\u001b[0m\n\u001b[1;32m    116\u001b[0m \u001b[0;34m\u001b[0m\u001b[0m\n\u001b[1;32m    117\u001b[0m     \u001b[0mtxtfilename\u001b[0m \u001b[0;34m=\u001b[0m \u001b[0;34m'input.txt'\u001b[0m\u001b[0;34m\u001b[0m\u001b[0;34m\u001b[0m\u001b[0m\n\u001b[0;32m--> 118\u001b[0;31m     \u001b[0m__options2txt\u001b[0m\u001b[0;34m(\u001b[0m\u001b[0moptions\u001b[0m\u001b[0;34m,\u001b[0m\u001b[0;34m\"input.txt\"\u001b[0m\u001b[0;34m)\u001b[0m\u001b[0;34m\u001b[0m\u001b[0;34m\u001b[0m\u001b[0m\n\u001b[0m\u001b[1;32m    119\u001b[0m     \u001b[0mf\u001b[0m \u001b[0;34m=\u001b[0m \u001b[0mopen\u001b[0m\u001b[0;34m(\u001b[0m\u001b[0;34m\"input.txt\"\u001b[0m\u001b[0;34m,\u001b[0m\u001b[0;34m\"a\"\u001b[0m\u001b[0;34m)\u001b[0m\u001b[0;34m\u001b[0m\u001b[0;34m\u001b[0m\u001b[0m\n\u001b[1;32m    120\u001b[0m     \u001b[0mf\u001b[0m\u001b[0;34m.\u001b[0m\u001b[0mwrite\u001b[0m\u001b[0;34m(\u001b[0m\u001b[0;34m\"files = {\"\u001b[0m\u001b[0;34m)\u001b[0m\u001b[0;34m\u001b[0m\u001b[0;34m\u001b[0m\u001b[0m\n",
      "\u001b[0;32m/opt/conda/lib/python3.7/site-packages/cellorganizer/tools.py\u001b[0m in \u001b[0;36m__options2txt\u001b[0;34m(options, filename)\u001b[0m\n\u001b[1;32m    333\u001b[0m     \u001b[0;32mif\u001b[0m \u001b[0mos\u001b[0m\u001b[0;34m.\u001b[0m\u001b[0mpath\u001b[0m\u001b[0;34m.\u001b[0m\u001b[0mexists\u001b[0m\u001b[0;34m(\u001b[0m\u001b[0mfilename\u001b[0m\u001b[0;34m)\u001b[0m\u001b[0;34m:\u001b[0m\u001b[0;34m\u001b[0m\u001b[0;34m\u001b[0m\u001b[0m\n\u001b[1;32m    334\u001b[0m         \u001b[0mos\u001b[0m\u001b[0;34m.\u001b[0m\u001b[0msystem\u001b[0m\u001b[0;34m(\u001b[0m\u001b[0;34m'rm '\u001b[0m\u001b[0;34m+\u001b[0m\u001b[0mfilename\u001b[0m\u001b[0;34m)\u001b[0m\u001b[0;34m\u001b[0m\u001b[0;34m\u001b[0m\u001b[0m\n\u001b[0;32m--> 335\u001b[0;31m     \u001b[0mf\u001b[0m \u001b[0;34m=\u001b[0m \u001b[0mopen\u001b[0m\u001b[0;34m(\u001b[0m\u001b[0mfilename\u001b[0m\u001b[0;34m,\u001b[0m\u001b[0;34m\"w\"\u001b[0m\u001b[0;34m)\u001b[0m\u001b[0;34m\u001b[0m\u001b[0;34m\u001b[0m\u001b[0m\n\u001b[0m\u001b[1;32m    336\u001b[0m     \u001b[0mkeys\u001b[0m \u001b[0;34m=\u001b[0m \u001b[0mlist\u001b[0m\u001b[0;34m(\u001b[0m\u001b[0moptions\u001b[0m\u001b[0;34m.\u001b[0m\u001b[0mkeys\u001b[0m\u001b[0;34m(\u001b[0m\u001b[0;34m)\u001b[0m\u001b[0;34m)\u001b[0m\u001b[0;34m\u001b[0m\u001b[0;34m\u001b[0m\u001b[0m\n\u001b[1;32m    337\u001b[0m     \u001b[0mkeys\u001b[0m\u001b[0;34m.\u001b[0m\u001b[0msort\u001b[0m\u001b[0;34m(\u001b[0m\u001b[0;34m)\u001b[0m\u001b[0;34m\u001b[0m\u001b[0;34m\u001b[0m\u001b[0m\n",
      "\u001b[0;31mPermissionError\u001b[0m: [Errno 1] Operation not permitted: 'input.txt'"
     ]
    }
   ],
   "source": [
    "optionsinfo={}\n",
    "answer = slml2info([module_name + \".mat\"],optionsinfo)\n",
    "\n",
    "HTML(filename=\"index.html\")"
   ]
  }
 ],
 "metadata": {
  "kernelspec": {
   "display_name": "Python 3",
   "language": "python",
   "name": "python3"
  },
  "language_info": {
   "codemirror_mode": {
    "name": "ipython",
    "version": 3
   },
   "file_extension": ".py",
   "mimetype": "text/x-python",
   "name": "python",
   "nbconvert_exporter": "python",
   "pygments_lexer": "ipython3",
   "version": "3.7.4"
  }
 },
 "nbformat": 4,
 "nbformat_minor": 4
}
