{
 "cells": [
  {
   "cell_type": "code",
   "execution_count": 2,
   "metadata": {},
   "outputs": [],
   "source": [
    "#import packages\n",
    "from aicsimageio import AICSImage\n",
    "import scipy.io\n",
    "import numpy as np\n",
    "from pathlib import Path\n",
    "import os\n",
    "from cellorganizer.tools import image2SPHARMparameterization\n",
    "import uuid"
   ]
  },
  {
   "cell_type": "code",
   "execution_count": 3,
   "metadata": {},
   "outputs": [
    {
     "name": "stdout",
     "output_type": "stream",
     "text": [
      "fb55d82b-37d8-4394-aca6-9647e9a12840\n",
      "db26bf55-ab0f-4f1d-a5e2-3b603f09cf04\n"
     ]
    }
   ],
   "source": [
    "#get unique filenames\n",
    "unique_filename_img = str(uuid.uuid4())\n",
    "unique_filename_params = str(uuid.uuid4())\n",
    "\n",
    "print(unique_filename_img)\n",
    "print(unique_filename_params)\n",
    "\n",
    "#tmp output\n",
    "outputdir = '/tmp'\n",
    "\n",
    "options = {}\n",
    "\n",
    "options['img_matfile'] = outputdir + '/' + unique_filename_img + '.mat'\n",
    "options['image_path'] = outputdir + '/' + unique_filename_img + '.mat'\n",
    "options['output_filepath'] = outputdir + '/' + unique_filename_params + '.mat'\n",
    "options['NMfirsttry_maxiter'] = 300\n",
    "options['NMretry_maxiter'] = 100\n",
    "options['NMretry_maxiterbig'] = 300\n",
    "\n",
    "# decreasing these numbers decreases compute time but potential reduces model quality\n",
    "options['NMcost_tol'] = 1e-7\n",
    "options['NMlargr_tol'] = 1e-7\n",
    "\n",
    "# degree of spherical harmonic descriptor\n",
    "options['maxDeg'] = 31\n",
    "# if the error in the parameterization for a given cell is higher than this, discard that cell\n",
    "# (note that there is a separate option hd_threshold that controls which cells are in reports)\n",
    "options['hd_thresh'] = 10\n",
    "options['downsampling'] = [1, 1, 1]\n",
    "options['alignment_method'] = 'major_axis'\n",
    "options['postprocess'] = True\n",
    "options['rotation_plane'] = 'xyz'\n",
    "options['components'] = {'cell'}"
   ]
  },
  {
   "cell_type": "code",
   "execution_count": 4,
   "metadata": {},
   "outputs": [],
   "source": [
    "#read in selected image\n",
    "directory = '/home/murphylab/cellorganizer/local/images/HeLa/3D/processed/'\n",
    "cellImagesDirectoryPath = Path(directory + 'LAM_cell1_ch1_t1.tif')"
   ]
  },
  {
   "cell_type": "code",
   "execution_count": 5,
   "metadata": {},
   "outputs": [
    {
     "name": "stdout",
     "output_type": "stream",
     "text": [
      "(1024, 1024, 18)\n"
     ]
    }
   ],
   "source": [
    "img = AICSImage(cellImagesDirectoryPath)\n",
    "data = img.data \n",
    "data = np.squeeze(data) #get it down to a 3D image\n",
    "data = np.transpose(data, (2, 1, 0)) #transpose to xyz\n",
    "\n",
    "#make sure data is shaped correctly\n",
    "print(data.shape)"
   ]
  },
  {
   "cell_type": "code",
   "execution_count": 6,
   "metadata": {},
   "outputs": [
    {
     "name": "stdout",
     "output_type": "stream",
     "text": [
      "__mat2python: matfile: /tmp/db26bf55-ab0f-4f1d-a5e2-3b603f09cf04.mat does not exsist\n"
     ]
    }
   ],
   "source": [
    "params = image2SPHARMparameterization(data, options) #return back descriptors as dict"
   ]
  },
  {
   "cell_type": "code",
   "execution_count": null,
   "metadata": {},
   "outputs": [],
   "source": [
    "params"
   ]
  }
 ],
 "metadata": {
  "kernelspec": {
   "display_name": "Python 3",
   "language": "python",
   "name": "python3"
  },
  "language_info": {
   "codemirror_mode": {
    "name": "ipython",
    "version": 3
   },
   "file_extension": ".py",
   "mimetype": "text/x-python",
   "name": "python",
   "nbconvert_exporter": "python",
   "pygments_lexer": "ipython3",
   "version": "3.7.6"
  }
 },
 "nbformat": 4,
 "nbformat_minor": 4
}
