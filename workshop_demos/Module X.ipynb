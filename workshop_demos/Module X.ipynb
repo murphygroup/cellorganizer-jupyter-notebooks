{
 "cells": [
  {
   "cell_type": "code",
   "execution_count": null,
   "metadata": {},
   "outputs": [],
   "source": [
    "#import packages\n",
    "from aicsimageio import AICSImage\n",
    "import numpy as np\n",
    "from pathlib import Path\n",
    "from cellorganizer.tools import image2SPHARMparameterization"
   ]
  },
  {
   "cell_type": "code",
   "execution_count": null,
   "metadata": {},
   "outputs": [],
   "source": [
    "#set options\n",
    "options = {}\n",
    "options['NMfirsttry_maxiter'] = 300\n",
    "options['NMretry_maxiter'] = 100\n",
    "options['NMretry_maxiterbig'] = 300\n",
    "\n",
    "# decreasing these numbers decreases compute time but potential reduces model quality\n",
    "options['NMcost_tol'] = 1e-7\n",
    "options['NMlargr_tol'] = 1e-7\n",
    "\n",
    "# degree of spherical harmonic descriptor\n",
    "options['maxDeg'] = 31\n",
    "# if the error in the parameterization for a given cell is higher than this, discard that cell\n",
    "# (note that there is a separate option hd_threshold that controls which cells are in reports)\n",
    "options['hd_thresh'] = 10"
   ]
  },
  {
   "cell_type": "code",
   "execution_count": null,
   "metadata": {},
   "outputs": [],
   "source": [
    "#read in selected image\n",
    "directory = '/home/murphylab/cellorganizer/local/images/HeLa/3D/processed/'\n",
    "cellImagesDirectoryPath = Path(directory + 'LAM_cell1_ch1_t1.tif')\n",
    "img = AICSImage(cellImagesDirectoryPath)"
   ]
  },
  {
   "cell_type": "code",
   "execution_count": null,
   "metadata": {},
   "outputs": [],
   "source": [
    "data = img.data \n",
    "data = np.squeeze(data) #get it down to a 3D image\n",
    "data = np.transpose(data, (2, 1, 0)) #transpose to xyz\n",
    "print(data.shape)\n",
    "#downsample\n",
    "data = data[::8,::8,::2]\n",
    "#make sure data is shaped correctly\n",
    "print(data.shape)"
   ]
  },
  {
   "cell_type": "code",
   "execution_count": null,
   "metadata": {},
   "outputs": [],
   "source": [
    "params = image2SPHARMparameterization(data, options) #return back descriptors as dict"
   ]
  },
  {
   "cell_type": "code",
   "execution_count": null,
   "metadata": {},
   "outputs": [],
   "source": [
    "params"
   ]
  }
 ],
 "metadata": {
  "kernelspec": {
   "display_name": "Python 3",
   "language": "python",
   "name": "python3"
  },
  "language_info": {
   "codemirror_mode": {
    "name": "ipython",
    "version": 3
   },
   "file_extension": ".py",
   "mimetype": "text/x-python",
   "name": "python",
   "nbconvert_exporter": "python",
   "pygments_lexer": "ipython3",
   "version": "3.7.6"
  }
 },
 "nbformat": 4,
 "nbformat_minor": 4
}
