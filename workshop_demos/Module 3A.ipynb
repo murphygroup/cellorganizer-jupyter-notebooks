{
 "cells": [
  {
   "cell_type": "markdown",
   "metadata": {},
   "source": [
    "## Module 3A\n",
    "## Tutorial 3 covers generating simple organelle models, creating reports from them, and comparing them.\n",
    "## Module 3A generates a cell, nuclear and organelle model from only a few images to reduce compute time.  The organelle model is the gmm (Gaussian mixture model) that fits organelles to ellipsoids and captures their relative positions within the cell.\n",
    "## Modules 3B and 3C use existing, larger models so Module 3A can be skipped if desired.\n",
    "## Module 4 creates more detailed organelle, state-of-the-art organelle models so Module 3 can be skipped entirely if desired."
   ]
  },
  {
   "cell_type": "code",
   "execution_count": 1,
   "metadata": {},
   "outputs": [
    {
     "name": "stdout",
     "output_type": "stream",
     "text": [
      "CellOrganizer v2.10 (MATLAB RO2019a)\n"
     ]
    }
   ],
   "source": [
    "from cellorganizer.tools import img2slml\n",
    "import glob\n",
    "import os\n",
    "import urllib.request\n",
    "import tarfile \n",
    "import os\n",
    "from IPython.core.display import display, HTML, Image\n",
    "\n",
    "module_name = \"Module3A\" #the folder in results that will hold everything\n",
    "\n",
    "model_name = \"Module3A\"\n",
    "topdir = \"/home/murphylab/cellorganizer/local/results\"\n",
    "outputdir = topdir + \"/\" + module_name\n",
    "if not os.path.exists(topdir):\n",
    "    os.makedirs(topdir)\n",
    "os.chdir(topdir)\n",
    "if not os.path.exists(outputdir):\n",
    "    os.makedirs(outputdir)\n",
    "os.chdir(outputdir)\n",
    "\n",
    "# init\n",
    "options = {}\n",
    "dnaImagesDirectoryPath = []\n",
    "cellImagesDirectoryPath = []\n",
    "options[\"masks\"] = []\n",
    "proteinImagesDirectoryPath = []\n",
    "\n",
    "# get images\n",
    "inputdirectory = \"/home/murphylab/cellorganizer/local/images/HeLa/3D/processed/\"\n",
    "file_pattern = 'LAM_cell1?_mask_t1.tif'\n",
    "for name in glob.glob(inputdirectory + file_pattern):\n",
    "    options[\"masks\"].append(name)\n",
    "\n",
    "file_pattern = 'LAM_cell1?_ch1_t1.tif'\n",
    "for name in glob.glob(inputdirectory + file_pattern):\n",
    "    cellImagesDirectoryPath.append(name)\n",
    "    \n",
    "file_pattern = 'LAM_cell1?_ch0_t1.tif'\n",
    "for name in glob.glob(inputdirectory + file_pattern):\n",
    "    dnaImagesDirectoryPath.append(name)\n",
    "    \n",
    "file_pattern = 'LAM_cell1?_ch2_t1.tif'\n",
    "for name in glob.glob(inputdirectory + file_pattern):\n",
    "    proteinImagesDirectoryPath.append(name)\n",
    "    \n",
    "cellImagesDirectoryPath.sort()\n",
    "dnaImagesDirectoryPath.sort()\n",
    "proteinImagesDirectoryPath.sort()\n",
    "options[\"masks\"].sort()\n",
    "\n",
    "# just use 3 cells\n",
    "cellImagesDirectoryPath = cellImagesDirectoryPath[0:3]\n",
    "dnaImagesDirectoryPath = dnaImagesDirectoryPath[0:3]\n",
    "proteinImagesDirectoryPath = proteinImagesDirectoryPath[0:3]\n",
    "options[\"masks\"] = options[\"masks\"][0:3]\n",
    "\n",
    "#set options that control what kind of model is created\n",
    "options[\"train.flag\"] = ['framework','protein']\n",
    "options[\"cell.class\"] = 'cell_membrane'\n",
    "options[\"cell.type\"] = 'ratio'\n",
    "options[\"nucleus.class\"] = 'nuclear_membrane'\n",
    "options[\"nucleus.type\"] = 'cylindrical_surface'\n",
    "options['protein.class'] = 'vesicle'\n",
    "options['protein.type'] = 'gmm'\n",
    "#options['model.id'] = 0121231\n",
    "options['model.name'] = model_name\n",
    "options['model.resolution'] = [0.049, 0.049, 0.2000]\n",
    "# options['downsampling = [4,4,1];\n",
    "options['downsampling'] = [1,1,1] # this is for the initial input images\n",
    "#options['min_obj_size'] = 20\n",
    "#options['max_obj_size'] = 400\n",
    "#options['local_thresholding_sigma'] = 5\n",
    "#options['object_detection_thresPerc'] = 0.1\n",
    "options['if_skip_cell_nuclear_model'] = False\n",
    "options['verbose'] = 0\n",
    "options[\"model.filename\"] = model_name + '.mat'\n",
    "\n",
    "answer = img2slml('3D', dnaImagesDirectoryPath, cellImagesDirectoryPath, proteinImagesDirectoryPath , options)"
   ]
  },
  {
   "cell_type": "code",
   "execution_count": 2,
   "metadata": {},
   "outputs": [
    {
     "name": "stdout",
     "output_type": "stream",
     "text": [
      "The model Module3A.mat has been created in /home/murphylab/cellorganizer/local/results/Module3A\n"
     ]
    }
   ],
   "source": [
    "if answer:\n",
    "    print('The model ' + model_name + '.mat has been created in ' + outputdir)"
   ]
  },
  {
   "cell_type": "code",
   "execution_count": null,
   "metadata": {},
   "outputs": [],
   "source": []
  }
 ],
 "metadata": {
  "kernelspec": {
   "display_name": "Python 3",
   "language": "python",
   "name": "python3"
  },
  "language_info": {
   "codemirror_mode": {
    "name": "ipython",
    "version": 3
   },
   "file_extension": ".py",
   "mimetype": "text/x-python",
   "name": "python",
   "nbconvert_exporter": "python",
   "pygments_lexer": "ipython3",
   "version": "3.7.6"
  }
 },
 "nbformat": 4,
 "nbformat_minor": 5
}
