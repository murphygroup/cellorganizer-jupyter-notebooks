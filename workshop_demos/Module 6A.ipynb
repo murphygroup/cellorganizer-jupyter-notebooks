{
 "cells": [
  {
   "cell_type": "markdown",
   "metadata": {},
   "source": [
    "## Module 6A\n",
    "## This notebook extracts and uses information from a saved CellOrganizer cell shape model\n",
    "## CellOrganizer models are Matlab structures that are saved as Matlab binary files (MAT-files, file extension .mat)\n",
    "## The steps below read the structure into a python dictionary and then operate on it."
   ]
  },
  {
   "cell_type": "code",
   "execution_count": 1,
   "metadata": {},
   "outputs": [],
   "source": [
    "import h5py\n",
    "import numpy as np\n",
    "#import scipy\n",
    "#import mat73\n",
    "import matplotlib.pyplot as plt"
   ]
  },
  {
   "cell_type": "markdown",
   "metadata": {},
   "source": [
    "### There are two different versions of .mat files. Older .mat files (<v7.3) and newer .mat files (>v7.3). They require different readersin python.\n",
    "### Use h5py or mat73 reader for newer .mat files and scipy.io reader for older .mat files"
   ]
  },
  {
   "cell_type": "code",
   "execution_count": 2,
   "metadata": {},
   "outputs": [],
   "source": [
    "## use mat73\n",
    "#load in mat file - => v7.3\n",
    "# use mat73\n",
    "#data_dict = mat73.loadmat('xxx.mat')\n",
    "#data_dict"
   ]
  },
  {
   "cell_type": "code",
   "execution_count": 3,
   "metadata": {},
   "outputs": [],
   "source": [
    "## or use h5py\n",
    "f = h5py.File('/home/murphylab/cellorganizer/local/models/HeLa9cellsA.mat', 'r')"
   ]
  },
  {
   "cell_type": "markdown",
   "metadata": {},
   "source": [
    "### examine the structure of the model"
   ]
  },
  {
   "cell_type": "code",
   "execution_count": 4,
   "metadata": {},
   "outputs": [
    {
     "data": {
      "text/plain": [
       "['#refs#', 'model']"
      ]
     },
     "execution_count": 4,
     "metadata": {},
     "output_type": "execute_result"
    }
   ],
   "source": [
    "list(f.keys())"
   ]
  },
  {
   "cell_type": "code",
   "execution_count": 5,
   "metadata": {},
   "outputs": [
    {
     "data": {
      "text/plain": [
       "['cellShapeModel',\n",
       " 'dataset',\n",
       " 'dimensionality',\n",
       " 'documentation',\n",
       " 'filename',\n",
       " 'id',\n",
       " 'name',\n",
       " 'nuclearShapeModel']"
      ]
     },
     "execution_count": 5,
     "metadata": {},
     "output_type": "execute_result"
    }
   ],
   "source": [
    "model = f['model']\n",
    "list(model.keys())"
   ]
  },
  {
   "cell_type": "code",
   "execution_count": 6,
   "metadata": {},
   "outputs": [
    {
     "data": {
      "text/plain": [
       "['X',\n",
       " 'all_centers',\n",
       " 'all_spharm_descriptors',\n",
       " 'cell_params',\n",
       " 'cell_params_fname',\n",
       " 'class',\n",
       " 'coeff',\n",
       " 'components',\n",
       " 'explained',\n",
       " 'hausdorff_distances',\n",
       " 'id',\n",
       " 'latent',\n",
       " 'latent_dim',\n",
       " 'max_deg',\n",
       " 'mu',\n",
       " 'name',\n",
       " 'nuc_params',\n",
       " 'numimgs',\n",
       " 'options',\n",
       " 'resolution',\n",
       " 'rpdm_model_type',\n",
       " 'scales',\n",
       " 'score',\n",
       " 'shape_model_type',\n",
       " 'train_coeff',\n",
       " 'train_explained',\n",
       " 'train_score',\n",
       " 'tsquared',\n",
       " 'type',\n",
       " 'version']"
      ]
     },
     "execution_count": 6,
     "metadata": {},
     "output_type": "execute_result"
    }
   ],
   "source": [
    "cellShapeModel = model['cellShapeModel']\n",
    "list(cellShapeModel.keys())"
   ]
  },
  {
   "cell_type": "code",
   "execution_count": 7,
   "metadata": {},
   "outputs": [],
   "source": [
    "#load in mat file - < v7.3\n",
    "#data_dict = scipy.io('')"
   ]
  },
  {
   "cell_type": "markdown",
   "metadata": {},
   "source": [
    "### first consider the object shape parameterizations"
   ]
  },
  {
   "cell_type": "code",
   "execution_count": 8,
   "metadata": {},
   "outputs": [
    {
     "data": {
      "text/plain": [
       "<HDF5 dataset \"X\": shape (12276, 8), type \"<f8\">"
      ]
     },
     "execution_count": 8,
     "metadata": {},
     "output_type": "execute_result"
    }
   ],
   "source": [
    "# this holds the full spherical harmonic descriptors for each object\n",
    "cellShapeModel['X']"
   ]
  },
  {
   "cell_type": "code",
   "execution_count": 9,
   "metadata": {},
   "outputs": [
    {
     "data": {
      "text/plain": [
       "<HDF5 dataset \"train_score\": shape (7, 8), type \"<f8\">"
      ]
     },
     "execution_count": 9,
     "metadata": {},
     "output_type": "execute_result"
    }
   ],
   "source": [
    "# this holds the PCA reduced descriptors for each object (first n PCs)\n",
    "cellShapeModel['train_score']"
   ]
  },
  {
   "cell_type": "code",
   "execution_count": 10,
   "metadata": {},
   "outputs": [
    {
     "data": {
      "text/plain": [
       "<HDF5 dataset \"mu\": shape (12276, 1), type \"<f8\">"
      ]
     },
     "execution_count": 10,
     "metadata": {},
     "output_type": "execute_result"
    }
   ],
   "source": [
    "# this holds the mean coefficients\n",
    "cellShapeModel['mu']"
   ]
  },
  {
   "cell_type": "code",
   "execution_count": 11,
   "metadata": {},
   "outputs": [
    {
     "data": {
      "text/plain": [
       "<HDF5 dataset \"train_coeff\": shape (7, 12276), type \"<f8\">"
      ]
     },
     "execution_count": 11,
     "metadata": {},
     "output_type": "execute_result"
    }
   ],
   "source": [
    "# this holds the coefficients for reconstructing the full descriptors from the reduced descriptors\n",
    "cellShapeModel['train_coeff']"
   ]
  },
  {
   "cell_type": "code",
   "execution_count": 12,
   "metadata": {},
   "outputs": [
    {
     "name": "stdout",
     "output_type": "stream",
     "text": [
      "(12276, 1)\n",
      "(12276,)\n",
      "(7,)\n",
      "(12276,)\n",
      "-0.016767654602419798\n"
     ]
    }
   ],
   "source": [
    "# calculate the full descriptors for the first object\n",
    "train_score = cellShapeModel['train_score']\n",
    "train_coeff = cellShapeModel['train_coeff']\n",
    "mud = cellShapeModel['mu']\n",
    "print(mud.shape)\n",
    "# extract the array from the dataset\n",
    "mu = mud[:,0]\n",
    "print(mu.shape)\n",
    "obj1reduced = train_score[:,0]\n",
    "print(obj1reduced.shape)\n",
    "obj1full = np.matmul(obj1reduced,train_coeff) + mu\n",
    "print(obj1full.shape)\n",
    "print(obj1full[0])"
   ]
  },
  {
   "cell_type": "markdown",
   "metadata": {},
   "source": [
    "### now look at object sizes"
   ]
  },
  {
   "cell_type": "code",
   "execution_count": 13,
   "metadata": {},
   "outputs": [
    {
     "name": "stdout",
     "output_type": "stream",
     "text": [
      "<HDF5 dataset \"scales\": shape (1, 8), type \"<f8\">\n"
     ]
    },
    {
     "data": {
      "text/plain": [
       "Text(0.5, 1.0, 'Cell sizes')"
      ]
     },
     "execution_count": 13,
     "metadata": {},
     "output_type": "execute_result"
    },
    {
     "data": {
      "image/png": "[encoded data removed]",
      "text/plain": [
       "<Figure size 432x288 with 1 Axes>"
      ]
     },
     "metadata": {
      "needs_background": "light"
     },
     "output_type": "display_data"
    }
   ],
   "source": [
    "sc = cellShapeModel['scales']\n",
    "print(sc)\n",
    "scales = sc[0,:]\n",
    "\n",
    "plt.hist(x=scales, bins='auto')\n",
    "plt.xlabel('Size')\n",
    "plt.ylabel('Frequency')\n",
    "plt.title('Cell sizes')"
   ]
  },
  {
   "cell_type": "code",
   "execution_count": 14,
   "metadata": {},
   "outputs": [],
   "source": [
    "f.close()"
   ]
  }
 ],
 "metadata": {
  "kernelspec": {
   "display_name": "Python 3",
   "language": "python",
   "name": "python3"
  },
  "language_info": {
   "codemirror_mode": {
    "name": "ipython",
    "version": 3
   },
   "file_extension": ".py",
   "mimetype": "text/x-python",
   "name": "python",
   "nbconvert_exporter": "python",
   "pygments_lexer": "ipython3",
   "version": "3.7.6"
  }
 },
 "nbformat": 4,
 "nbformat_minor": 5
}
