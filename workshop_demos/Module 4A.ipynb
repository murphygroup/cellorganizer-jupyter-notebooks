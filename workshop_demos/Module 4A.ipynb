{
 "cells": [
  {
   "cell_type": "code",
   "execution_count": null,
   "metadata": {},
   "outputs": [],
   "source": [
    "from cellorganizer.tools import slml2report\n",
    "import glob\n",
    "import urllib.request\n",
    "import tarfile \n",
    "import os\n",
    "from IPython.core.display import display, HTML, Image\n",
    "\n",
    "folder_name = 'Module4'\n",
    "model_name = 'golgi_model_vs_nuclear_model'\n",
    "model_folder = \"/home/murphylab/cellorganizer/local/models/3D/SPHARM-RPDM/\"\n",
    "\n",
    "topdir = \"/home/murphylab/cellorganizer/local/results\"\n",
    "outputdir = topdir + \"/\" + folder_name\n",
    "if not os.path.exists(topdir):\n",
    "    os.makedirs(topdir)\n",
    "os.chdir(topdir)\n",
    "os.system(\"ls\")\n",
    "if not os.path.exists(outputdir):\n",
    "    os.makedirs(outputdir)\n",
    "os.chdir(outputdir)\n",
    "os.system(\"ls\")\n",
    "if not os.path.exists(model_name):\n",
    "    os.makedirs(model_name)\n",
    "os.chdir(model_name)\n",
    "os.system(\"ls\")\n",
    "\n",
    "options = {}\n",
    "options['verbose'] = 1\n",
    "options['includenuclear'] = 0\n",
    "options['includecell'] = 0\n",
    "options['includeprot'] = 1\n",
    "\n",
    "model_files_1 = model_folder + 'golgi_GT_model.mat'\n",
    "model_files_2 = model_folder + 'nuclear_GT_model.mat'\n",
    "os.system(\"ls\")\n",
    "answer = slml2report(model_files_1 , model_files_2, options)\n",
    "HTML(filename =  'index.html')"
   ]
  },
  {
   "cell_type": "code",
   "execution_count": null,
   "metadata": {},
   "outputs": [],
   "source": [
    "Image('show_shape_space.png')"
   ]
  },
  {
   "cell_type": "code",
   "execution_count": 4,
   "metadata": {},
   "outputs": [
    {
     "data": {
      "text/plain": [
       "0"
      ]
     },
     "execution_count": 4,
     "metadata": {},
     "output_type": "execute_result"
    }
   ],
   "source": []
  }
 ],
 "metadata": {
  "kernelspec": {
   "display_name": "Python 3",
   "language": "python",
   "name": "python3"
  },
  "language_info": {
   "codemirror_mode": {
    "name": "ipython",
    "version": 3
   },
   "file_extension": ".py",
   "mimetype": "text/x-python",
   "name": "python",
   "nbconvert_exporter": "python",
   "pygments_lexer": "ipython3",
   "version": "3.7.6"
  }
 },
 "nbformat": 4,
 "nbformat_minor": 4
}
