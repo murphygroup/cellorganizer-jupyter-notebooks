{
 "cells": [
  {
   "cell_type": "markdown",
   "metadata": {},
   "source": [
    "#### <h1> Module 7B </h1>\n",
    "## Tutorial 7 covers generating geometries for cell simulations from CellOrganizer models.\n",
    "## Module 7B generates a cell geometry and writes it as Blender files for each cell component.  It also writes each component into a 3D TIFF file."
   ]
  },
  {
   "cell_type": "code",
   "execution_count": 1,
   "metadata": {},
   "outputs": [],
   "source": [
    "from cellorganizer.tools import slml2img, __does_file_exist\n",
    "import datetime\n",
    "import glob\n",
    "import urllib.request\n",
    "import hashlib\n",
    "import os\n",
    "from IPython.core.display import display, HTML, Image\n",
    "from IPython.display import Code, FileLink\n",
    "\n",
    "module_name = 'Module7B'\n",
    "models_dir = '/home/murphylab/cellorganizer/local/models/'\n",
    "\n",
    "topdir = \"/home/murphylab/cellorganizer/local/results\"\n",
    "outputdir = topdir + \"/\" + module_name\n",
    "if not os.path.exists(topdir):\n",
    "    os.makedirs(topdir)\n",
    "os.chdir(topdir)\n",
    "os.system(\"ls\")\n",
    "if not os.path.exists(outputdir):\n",
    "    os.makedirs(outputdir)\n",
    "os.chdir(outputdir)\n",
    "os.system(\"ls\")\n",
    "\n",
    "# Set options\n",
    "\n",
    "options = {}\n",
    "\n",
    "# Set general options\n",
    "\n",
    "# Random seed. Change to produce a different sample of geometries.\n",
    "options['seed'] = 12345\n",
    "# options['synthesis'] = synthesis\n",
    "options['targetDirectory'] = outputdir\n",
    "options['prefix'] = module_name\n",
    "# options['output_filename'] = module_name \n",
    "options['verbose'] = True\n",
    "options['debug'] = False\n",
    "# options['display'] = False\n",
    "# options['model.spharm_rpdm.synthesis_method'] = 'random_sampling'\n",
    "# options['model.spharm_rpdm.imageSize'] = [205, 205, 18]\n",
    "options['numberOfSynthesizedImages'] = 1\n",
    "options['numberOfGaussianObjects'] = 25\n",
    "# options['rendAtStd'] = 1\n",
    "# options['objstd'] = 1.3\n",
    "# options['overlapthresh'] = 1\n",
    "# options['overlapsubsize'] = 1\n",
    "options['compression'] = 'lzw'\n",
    "options['microscope'] = 'none'\n",
    "options['sampling.method'] = 'disc'\n",
    "# Output types\n",
    "options['output.tifimages'] = True\n",
    "options['output.blenderfile'] = True\n",
    "options['output.blender.downsample'] = 5\n",
    "# options['overwrite_synthetic_instances'] = False\n",
    "# options['output.shape_space_coords'] = True\n",
    "# options['output.OMETIFF'] = True\n",
    "# options['output.indexedimage'] = True\n",
    "# options['output.SBMLSpatial'] = True\n",
    "\n",
    "\n",
    "model_path = \"/home/murphylab/cellorganizer/local/models/lamp2.mat\"\n",
    "\n",
    "answer = slml2img([model_path], options)"
   ]
  },
  {
   "cell_type": "code",
   "execution_count": null,
   "metadata": {},
   "outputs": [],
   "source": []
  }
 ],
 "metadata": {
  "kernelspec": {
   "display_name": "Python 3",
   "language": "python",
   "name": "python3"
  },
  "language_info": {
   "codemirror_mode": {
    "name": "ipython",
    "version": 3
   },
   "file_extension": ".py",
   "mimetype": "text/x-python",
   "name": "python",
   "nbconvert_exporter": "python",
   "pygments_lexer": "ipython3",
   "version": "3.7.6"
  }
 },
 "nbformat": 4,
 "nbformat_minor": 4
}
