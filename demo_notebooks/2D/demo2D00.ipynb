{
 "cells": [
  {
   "cell_type": "markdown",
   "metadata": {},
   "source": [
    "# demo2D00\n",
    "\n",
    "Synthesize one 2D image with nuclear, cell shape, and vesicular channels from all vesicular object models (nucleoli, lysosomes, endosomes, and\n",
    "mitochondria) without convolution. The model was trained from the Murphy Lab 2D HeLa dataset.\n",
    "\n",
    "## Input\n",
    "* a list of valid CellOrganizer model files\n",
    "\n",
    "## Output\n",
    "* one TIFF file with six slices (nuclear, cell shape, nucleolar, lysosomal, endosomal, and mitochondrial channels)"
   ]
  },
  {
   "cell_type": "code",
   "execution_count": 1,
   "metadata": {},
   "outputs": [
    {
     "data": {
      "image/png": "[encoded data removed]",
      "text/plain": [
       "<Figure size 432x288 with 1 Axes>"
      ]
     },
     "metadata": {
      "needs_background": "light"
     },
     "output_type": "display_data"
    }
   ],
   "source": [
    "from cellorganizer.tools import slml2img\n",
    "from cellorganizer.tools import imshow\n",
    "import os\n",
    "\n",
    "filenames = [ '/home/murphylab/cellorganizer/local/models/2D/nucleolus.mat',\n",
    "             '/home/murphylab/cellorganizer/local/models/2D/lysosome.mat', \n",
    "             '/home/murphylab/cellorganizer/local/models/2D/endosome.mat', \n",
    "             '/home/murphylab/cellorganizer/local/models/2D/mitochondrion.mat']\n",
    "options = {}\n",
    "options['targetDirectory'] = 'pwd'\n",
    "options['prefix'] = 'img'\n",
    "options['compression'] = 'lzw'\n",
    "options['debug'] = False\n",
    "options['verbose'] = True\n",
    "options['display'] = False\n",
    "options['numberOfSynthesizedImages'] = 1\n",
    "\n",
    "slml2img( filenames, options )\n",
    "imshow(\"img/cell1/cell1.tif\",{})"
   ]
  },
  {
   "cell_type": "code",
   "execution_count": null,
   "metadata": {},
   "outputs": [],
   "source": []
  }
 ],
 "metadata": {
  "kernelspec": {
   "display_name": "Python 3",
   "language": "python",
   "name": "python3"
  },
  "language_info": {
   "codemirror_mode": {
    "name": "ipython",
    "version": 3
   },
   "file_extension": ".py",
   "mimetype": "text/x-python",
   "name": "python",
   "nbconvert_exporter": "python",
   "pygments_lexer": "ipython3",
   "version": "3.7.6"
  }
 },
 "nbformat": 4,
 "nbformat_minor": 2
}
