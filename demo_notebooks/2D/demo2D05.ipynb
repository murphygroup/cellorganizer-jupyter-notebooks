{
 "cells": [
  {
   "cell_type": "markdown",
   "metadata": {},
   "source": [
    "# demo2D05\n",
    "Train 2D generative pca nuclear and cell shape model using the Murphy Lab 2D HeLa dataset.\n",
    "\n",
    "## Input\n",
    " * a directory of raw or synthetic nucleus images\n",
    " * a directory of raw or synthetic cell shape images\n",
    " * the resolution of the images (all images should have the same resolution)\n",
    "\n",
    "## Output\n",
    "* a valid SLML model file"
   ]
  },
  {
   "cell_type": "code",
   "execution_count": 1,
   "metadata": {},
   "outputs": [
    {
     "name": "stdout",
     "output_type": "stream",
     "text": [
      "v2.10 Cellorganizer\n",
      "R2019 MATLAB\n",
      "Model is created in folder /home/murphylab/cellorganizer/local/notebooks/demo_notebooks/2D/demo2D08output\n"
     ]
    }
   ],
   "source": [
    "from cellorganizer.tools import img2slml\n",
    "import glob\n",
    "import urllib.request\n",
    "import tarfile \n",
    "import os\n",
    "\n",
    "outputdir = os.getcwd() + os.path.sep + 'demo2D05output'\n",
    "if not os.path.exists(outputdir):\n",
    "    os.makedirs(outputdir)\n",
    "os.chdir(outputdir)\n",
    "\n",
    "options = {}\n",
    "options['verbose'] = True\n",
    "options['debug'] = False\n",
    "options['display'] = False\n",
    "options['model.name'] = 'demo2D05'\n",
    "options['save_segmentation'] = False\n",
    "\n",
    "options['train.flag'] = 'framework'\n",
    "options['nucleus.class'] = 'framework'\n",
    "options['nucleus.type'] = 'pca'\n",
    "options['cell.class '] = 'framework'\n",
    "options['cell.type'] = 'pca'\n",
    "options['model.pca.latent_dim'] = 15\n",
    "\n",
    "directory = '/home/murphylab/cellorganizer/local/images/HeLa/2D/LAM/'\n",
    "\n",
    "dnaImagesDirectoryPath = [directory + 'orgdna/cell' + str(i)+\".tif\" for i in range(1,6)]\n",
    "cellImagesDirectoryPath = [directory + 'orgcell/cell' + str(i)+\".tif\" for i in range(1,6)]\n",
    "proteinImagesDirectoryPath = [directory + 'orgprot/cell' + str(i)+\".tif\" for i in range(1,6)]\n",
    "options['masks'] = [directory + 'crop/cell' + str(i)+\".tif\" for i in range(1,6)]\n",
    "options['labels'] = ['LAMP2'] * 5\n",
    "\n",
    "# directory = '/home/murphylab/cellorganizer/local/images/HeLa/2D/Nuc/'\n",
    "\n",
    "options['model.resolution'] = [ 0.049, 0.049 ]\n",
    "options['model.filename'] = 'model.xml'\n",
    "options['model.id'] = 'demo2d05'\n",
    "# options['model.name'] = '2D HeLa LAMP2+Nuc'\n",
    "\n",
    "options['nucleus.name'] = 'LAMP2'\n",
    "options['cell.model'] = 'LAMP2'\n",
    "\n",
    "dimensionality = '2D'\n",
    "\n",
    "options['documentation.description'] = 'This model has been trained using demo2D08 from CellOrganizer'\n",
    "\n",
    "img2slml(dimensionality, dnaImagesDirectoryPath, cellImagesDirectoryPath, proteinImagesDirectoryPath, options)\n",
    "print('Model is created in folder ' + outputdir)\n"
   ]
  },
  {
   "cell_type": "code",
   "execution_count": null,
   "metadata": {},
   "outputs": [],
   "source": []
  },
  {
   "cell_type": "code",
   "execution_count": null,
   "metadata": {},
   "outputs": [],
   "source": []
  }
 ],
 "metadata": {
  "kernelspec": {
   "display_name": "Python 3",
   "language": "python",
   "name": "python3"
  },
  "language_info": {
   "codemirror_mode": {
    "name": "ipython",
    "version": 3
   },
   "file_extension": ".py",
   "mimetype": "text/x-python",
   "name": "python",
   "nbconvert_exporter": "python",
   "pygments_lexer": "ipython3",
   "version": "3.7.6"
  }
 },
 "nbformat": 4,
 "nbformat_minor": 2
}
