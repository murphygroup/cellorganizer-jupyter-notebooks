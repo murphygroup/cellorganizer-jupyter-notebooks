{
 "cells": [
  {
   "cell_type": "markdown",
   "metadata": {},
   "source": [
    "# demo3D47\n",
    "Combine two generative model files into a single file.\n",
    "\n",
    "## Input \n",
    "* a list of valid CellOrganizer model files\n",
    "\n",
    "## Output\n",
    "* a valid model\n"
   ]
  },
  {
   "cell_type": "code",
   "execution_count": 4,
   "metadata": {},
   "outputs": [
    {
     "data": {
      "text/html": [
       "<!DOCTYPE html>\n",
       "<html>\n",
       "<body>\n",
       "\n",
       "<h2>Filename</h2>\n",
       "<p>/home/murphylab/cellorganizer/local/models/3D/demo3D47output/model.mat</p>\n",
       "<h2>Model name</h2>\n",
       "<p>UNSET</p>\n",
       "<h2>Model ID</h2>\n",
       "<p>/bin/bash:uuidgen:commandnotfound</p>\n",
       "<h2>Dimensionality</h2>\n",
       "<p>3D</p>\n",
       "<h2>Documentation</h2>\n",
       "<p>Fields and values present in the documentation structure</p><p>author</p><p>Murphy Lab</p><p>date</p><p>04-Sep-2020</p><p>description</p><p>This combined model is the result from demo3D47.</p><p>email</p><p>murphy@cmu.edu</p><p>website</p><p>http://www.cellorganizer.org</p><p>original_files</p><p><p>selection</p><p>\n",
       "<h2>Nuclear shape model information</h2>\n",
       "<p>Fields and values present in the submodel</p>\n",
       "<h2>Model Name</h2>\n",
       "<p>3D HeLa nuclear shape model</p>\n",
       "<h2>ID</h2>\n",
       "<p>UNSET</p>\n",
       "<h2>Model Class</h2>\n",
       "<p>nuclear_membrane</p>\n",
       "<h2>Model Type</h2>\n",
       "<p>cylindrical_surface</p>\n",
       "<h2>Model Resolution</h2>\n",
       "<p>[0.245 0.245 0.2]</p>\n",
       "<h2>Cell shape model information</h2>\n",
       "<p>Fields and values present in the submodel</p>\n",
       "<h2>Model Name</h2>\n",
       "<p>3D HeLa cell shape model</p>\n",
       "<h2>ID</h2>\n",
       "<p>UNSET</p>\n",
       "<h2>Model Class</h2>\n",
       "<p>cell_membrane</p>\n",
       "<h2>Model Type</h2>\n",
       "<p>ratio</p>\n",
       "<h2>Model Resolution</h2>\n",
       "<p>[0.245 0.245 0.2]</p>\n",
       "<h2>Protein pattern model information</h2>\n",
       "<p>Fields and values present in the submodel</p>\n",
       "<h2>Model Name</h2>\n",
       "<p>3D HeLa protein model</p>\n",
       "<h2>ID</h2>\n",
       "<p>UNSET</p>\n",
       "<h2>Model Class</h2>\n",
       "<p>vesicle</p>\n",
       "<h2>Model Type</h2>\n",
       "<p>gmm</p>\n",
       "<h2>Model Resolution</h2>\n",
       "<p>[0.049 0.049 0.2]</p></body>\n",
       "</html>"
      ],
      "text/plain": [
       "<IPython.core.display.HTML object>"
      ]
     },
     "execution_count": 4,
     "metadata": {},
     "output_type": "execute_result"
    }
   ],
   "source": [
    "from cellorganizer.tools import slml2slml\n",
    "from cellorganizer.tools import slml2info\n",
    "from IPython.core.display import display, HTML, Image\n",
    "import os\n",
    "\n",
    "outputdir = \"/home/murphylab/cellorganizer/local/models/3D/demo3D47output\"\n",
    "if not os.path.exists(outputdir):\n",
    "    os.makedirs(outputdir)\n",
    "os.chdir(outputdir)\n",
    "\n",
    "model_name = 'model.mat'\n",
    "model_file = \"/home/murphylab/cellorganizer/local/models/3D/demo3D47output/\" +  model_name \n",
    "options = {}\n",
    "options['output_filename'] = model_name\n",
    "options['selection'] = '[1,1,0;0,0,1]'\n",
    "\n",
    "options['documentation.author'] = 'Murphy Lab'\n",
    "options['documentation.email'] = 'murphy@cmu.edu'\n",
    "options['documentation.website'] = 'http://www.cellorganizer.org'\n",
    "options['documentation.description'] = 'This combined model is the result from demo3D47.'\n",
    "options['documentation.date'] = 'date'\n",
    "\n",
    "file1 = '/home/murphylab/cellorganizer/local/models/3D/mit.mat'\n",
    "file2 = '/home/murphylab/cellorganizer/local/models/3D/nuc.mat'\n",
    "files = [file1, file2]\n",
    "\n",
    "slml2slml(files,options)\n",
    "\n",
    "answer = slml2info([model_file], options)\n",
    "\n",
    "HTML(filename = 'index.html')"
   ]
  },
  {
   "cell_type": "code",
   "execution_count": null,
   "metadata": {},
   "outputs": [],
   "source": []
  }
 ],
 "metadata": {
  "kernelspec": {
   "display_name": "Python 3",
   "language": "python",
   "name": "python3"
  },
  "language_info": {
   "codemirror_mode": {
    "name": "ipython",
    "version": 3
   },
   "file_extension": ".py",
   "mimetype": "text/x-python",
   "name": "python",
   "nbconvert_exporter": "python",
   "pygments_lexer": "ipython3",
   "version": "3.7.6"
  }
 },
 "nbformat": 4,
 "nbformat_minor": 2
}