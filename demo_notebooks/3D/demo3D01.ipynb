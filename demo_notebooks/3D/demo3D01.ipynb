{
 "cells": [
  {
   "cell_type": "markdown",
   "metadata": {},
   "source": [
    "# demo3D01\n",
    "Synthesize one 3D image with nuclear, cell shape, and vesicular channels from all vesicular object models (lysosomes, mitochondria, nucleoli, and endosomes) with sampling method set to render vesicular objects as ellipsoids without convolution with a point-spread function. The model was trained from the Murphy Lab 3D HeLa dataset.\n",
    "\n",
    "## Input \n",
    "* a list of valid CellOrganizer model files\n",
    "\n",
    "## Output\n",
    "* six TIFF files (nuclear, cell shape, lysosomal, mitochondrial,\n",
    "   nucleolar, and endosomal channels)\n"
   ]
  },
  {
   "cell_type": "code",
   "execution_count": 2,
   "metadata": {},
   "outputs": [
    {
     "name": "stdout",
     "output_type": "stream",
     "text": [
      "TIFF images created in folder /home/murphylab/cellorganizer/local/notebooks/demo_notebooks/3D/demo3D01output/img/cell1/\n"
     ]
    }
   ],
   "source": [
    "from cellorganizer.tools import slml2img\n",
    "import os\n",
    "\n",
    "outputdir = os.getcwd() + os.path.sep + 'demo3D01output'\n",
    "if not os.path.exists(outputdir):\n",
    "    os.makedirs(outputdir)\n",
    "os.chdir(outputdir)\n",
    "options = {}\n",
    "options['targetDirectory'] = os.getcwd()\n",
    "options['prefix'] = 'img'\n",
    "options['compression'] = 'lzw'\n",
    "options['sampling.method'] = 'disc'\n",
    "options['debug'] = False\n",
    "options['verbose'] = True\n",
    "options['display'] = False\n",
    "options['numberOfGaussianObjects'] = 25\n",
    "filenames = ['/home/murphylab/cellorganizer/local/models/3D/nuc.mat',\n",
    "             '/home/murphylab/cellorganizer/local/models/3D/lamp2.mat',\n",
    "             '/home/murphylab/cellorganizer/local/models/3D/tfr.mat', \n",
    "             '/home/murphylab/cellorganizer/local/models/3D/mit.mat']\n",
    "\n",
    "slml2img( filenames, options )\n",
    "print('TIFF images created in folder ' + outputdir + '/img/cell1/')"
   ]
  },
  {
   "cell_type": "code",
   "execution_count": null,
   "metadata": {},
   "outputs": [],
   "source": []
  }
 ],
 "metadata": {
  "kernelspec": {
   "display_name": "Python 3",
   "language": "python",
   "name": "python3"
  },
  "language_info": {
   "codemirror_mode": {
    "name": "ipython",
    "version": 3
   },
   "file_extension": ".py",
   "mimetype": "text/x-python",
   "name": "python",
   "nbconvert_exporter": "python",
   "pygments_lexer": "ipython3",
   "version": "3.7.6"
  }
 },
 "nbformat": 4,
 "nbformat_minor": 2
}
