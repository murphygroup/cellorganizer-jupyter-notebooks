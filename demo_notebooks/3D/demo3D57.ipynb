{
 "cells": [
  {
   "cell_type": "markdown",
   "metadata": {},
   "source": [
    "# demo3D57\n",
    "Show enrichment plot with a trained T- Cell model\n",
    "\n",
    "## Input\n",
    "* a valid tcell SLML model file\n",
    "\n",
    "## Output\n",
    "* enirchment plot"
   ]
  },
  {
   "cell_type": "code",
   "execution_count": 1,
   "metadata": {},
   "outputs": [],
   "source": [
    "from cellorganizer.tools import slml2info\n",
    "from cellorganizer.tools import imshow\n",
    "import os \n",
    "\n",
    "\n",
    "outputdir = os.getcwd() + os.path.sep + 'demo3D57output'\n",
    "if not os.path.exists(outputdir):\n",
    "    os.makedirs(outputdir)\n",
    "os.chdir(outputdir)\n",
    "\n",
    "options = {}\n",
    "directory = '/home/murphylab/cellorganizer/local/notebooks/demo_notebooks/3D/demo3D52output/models'\n",
    "if not os.path.isdir(directory):\n",
    "    print(\"Run demo 3D48 first and generate models!\")\n",
    "else:\n",
    "    slml2info({'/home/murphylab/cellorganizer/local/notebooks/demo_notebooks/3D/demo3D48output/models/LAT_reltime_0.mat','/home/murphylab/cellorganizer/local/notebooks/demo_notebooks/3D/demo3D48output/models/LAT_reltime_1.mat'},options)\n",
    "\n",
    "print('Output created in folder ' + outputdir)"
   ]
  },
  {
   "cell_type": "code",
   "execution_count": null,
   "metadata": {},
   "outputs": [],
   "source": []
  }
 ],
 "metadata": {
  "kernelspec": {
   "display_name": "Python 3",
   "language": "python",
   "name": "python3"
  },
  "language_info": {
   "codemirror_mode": {
    "name": "ipython",
    "version": 3
   },
   "file_extension": ".py",
   "mimetype": "text/x-python",
   "name": "python",
   "nbconvert_exporter": "python",
   "pygments_lexer": "ipython3",
   "version": "3.7.6"
  }
 },
 "nbformat": 4,
 "nbformat_minor": 2
}
