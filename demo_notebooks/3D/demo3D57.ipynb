{
 "cells": [
  {
   "cell_type": "markdown",
   "metadata": {},
   "source": [
    "# demo3D57\n",
    "Show enrichment plot with a trained T- Cell model\n",
    "\n",
    "## Input\n",
    "* a valid tcell SLML model file\n",
    "\n",
    "## Output\n",
    "* enirchment plot"
   ]
  },
  {
   "cell_type": "code",
   "execution_count": 3,
   "metadata": {},
   "outputs": [
    {
     "name": "stdout",
     "output_type": "stream",
     "text": [
      "Output created in folder /home/murphylab/cellorganizer/local/notebooks/demo_notebooks/3D/demo3D57output\n"
     ]
    }
   ],
   "source": [
    "from cellorganizer.tools import slml2info\n",
    "from cellorganizer.tools import imshow\n",
    "import os \n",
    "\n",
    "\n",
    "outputdir = os.getcwd() + os.path.sep + 'demo3D57output'\n",
    "\n",
    "if not os.path.exists(outputdir):\n",
    "    os.makedirs(outputdir)\n",
    "os.chdir(outputdir)\n",
    "\n",
    "options = {}\n",
    "directory = '/home/murphylab/cellorganizer/local/notebooks/demo_notebooks/3D/demo3D48output/models'\n",
    "if not os.path.isdir(directory):\n",
    "     print(\"Run demo 3D48 first and generate models!\")\n",
    "else:\n",
    "    slml2info({directory + '/LAT_reltime_0.mat', directory + '/LAT_reltime_1.mat'},options)\n",
    "\n",
    "print('Output created in folder ' + outputdir)"
   ]
  },
  {
   "cell_type": "code",
   "execution_count": 5,
   "metadata": {},
   "outputs": [
    {
     "data": {
      "text/html": [
       "<!DOCTYPE html>\n",
       "<html>\n",
       "<body>\n",
       "\n",
       "<h2>Filename</h2>\n",
       "<p>/home/murphylab/cellorganizer/local/notebooks/demo_notebooks/3D/demo3D48output/models/LAT_reltime_1.mat</p>\n",
       "<h2>Model name</h2>\n",
       "<p>unset</p>\n",
       "<h2>Model ID</h2>\n",
       "<p>06757a0d-6ae4-4138-910c-2397d765e1c6</p>\n",
       "<h2>Dimensionality</h2>\n",
       "<p>3D</p>\n",
       "<h2>Documentation</h2>\n",
       "\n",
       "<h2>Nuclear shape model information</h2>\n",
       "<p>The model file does not contain an instance of the submodel</p>\n",
       "<h2>Cell shape model information</h2>\n",
       "<p>The model file does not contain an instance of the submodel</p>\n",
       "<h2>Protein pattern model information</h2>\n",
       "<p>Fields and values present in the submodel</p>\n",
       "<h2>Model Name</h2>\n",
       "<p>LAT_</p>\n",
       "<h2>ID</h2>\n",
       "<p>UNSET</p>\n",
       "<h2>Model Class</h2>\n",
       "<p>standardized_voxels</p>\n",
       "<h2>Model Type</h2>\n",
       "<p>standardized_map_half-ellipsoid</p>\n",
       "<h2>Model Resolution</h2>\n",
       "<p>[0.245 0.245 0.2]</p>\n",
       "<h2>Additional Figures</h2>\n",
       "\n",
       "<figure>\n",
       "<a href=\"show_enrichment.png\"><img src=\"show_enrichment_thumbnail.png\" /></a>\n",
       "<figcaption>T Cell Model Shape enrichment plot</figcaption>\n",
       "</figure>\n",
       "\n",
       "</body>\n",
       "</html>"
      ],
      "text/plain": [
       "<IPython.core.display.HTML object>"
      ]
     },
     "execution_count": 5,
     "metadata": {},
     "output_type": "execute_result"
    }
   ],
   "source": [
    "from IPython.core.display import display, HTML, Image\n",
    "os.chdir(outputdir)\n",
    "\n",
    "HTML(filename=\"./index.html\")"
   ]
  },
  {
   "cell_type": "code",
   "execution_count": null,
   "metadata": {},
   "outputs": [],
   "source": []
  }
 ],
 "metadata": {
  "kernelspec": {
   "display_name": "Python 3",
   "language": "python",
   "name": "python3"
  },
  "language_info": {
   "codemirror_mode": {
    "name": "ipython",
    "version": 3
   },
   "file_extension": ".py",
   "mimetype": "text/x-python",
   "name": "python",
   "nbconvert_exporter": "python",
   "pygments_lexer": "ipython3",
   "version": "3.7.6"
  }
 },
 "nbformat": 4,
 "nbformat_minor": 2
}
