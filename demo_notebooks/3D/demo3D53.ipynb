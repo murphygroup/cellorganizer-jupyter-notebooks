{
 "cells": [
  {
   "cell_type": "markdown",
   "metadata": {},
   "source": [
    "# demo3D53\n",
    "Reconstruct one 3D image with nuclear, cell shape for SPHARM-RPDM model\n",
    "\n",
    "## Input \n",
    "* a valid CellOrganizer model file\n",
    "\n",
    "## Output\n",
    "* one TIFF file with three slices (nuclear, cell shape, and lysosomal\n",
    "  channels)\n"
   ]
  },
  {
   "cell_type": "code",
   "execution_count": 1,
   "metadata": {},
   "outputs": [],
   "source": [
    "from cellorganizer.tools import slml2img\n",
    "import glob\n",
    "import urllib.request\n",
    "import tarfile \n",
    "import os\n",
    "\n",
    "outputdir = os.getcwd() + os.path.sep + 'demo3D53output'\n",
    "if not os.path.exists(outputdir):\n",
    "    os.makedirs(outputdir)\n",
    "os.chdir(outputdir)\n",
    "\n",
    "options = {}\n",
    "options['seed'] = 12345;\n",
    "\n",
    "# modify the next line to generate more images\n",
    "options['numberOfSynthesizedImages'] = 1\n",
    "\n",
    "options['model.spharm_rpdm.synthesis_method'] = 'reconstruction'\n",
    "options['synthesis'] = 'framework'\n",
    "options['model.spharm_rpdm.imageSize'] = [205, 205, 18]\n",
    "options['targetDirectory'] = 'pwd'\n",
    "options['prefix'] = 'img'\n",
    "options['compression'] = 'lzw'\n",
    "options['debug'] = False\n",
    "options['verbose'] = True\n",
    "options['display'] = False\n",
    "\n",
    "filename = '/home/murphylab/cellorganizer/local/notebooks/demo_notebooks/3D/demo3D52output/lamp2.mat'\n",
    "\n",
    "slml2img( {filename}, options )\n",
    "print('TIFF images created in folder ' + outputdir)"
   ]
  },
  {
   "cell_type": "code",
   "execution_count": null,
   "metadata": {},
   "outputs": [],
   "source": []
  }
 ],
 "metadata": {
  "kernelspec": {
   "display_name": "Python 3",
   "language": "python",
   "name": "python3"
  },
  "language_info": {
   "codemirror_mode": {
    "name": "ipython",
    "version": 3
   },
   "file_extension": ".py",
   "mimetype": "text/x-python",
   "name": "python",
   "nbconvert_exporter": "python",
   "pygments_lexer": "ipython3",
   "version": "3.7.6"
  }
 },
 "nbformat": 4,
 "nbformat_minor": 2
}
