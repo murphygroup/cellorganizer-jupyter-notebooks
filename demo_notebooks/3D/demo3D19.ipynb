{
 "cells": [
  {
   "cell_type": "markdown",
   "metadata": {},
   "source": [
    "# demo3D19"
   ]
  },
  {
   "cell_type": "markdown",
   "metadata": {},
   "source": [
    "This demo uses slml2report to compare the parameters between\n",
    "CellOrganizer models and returns a report."
   ]
  },
  {
   "cell_type": "markdown",
   "metadata": {},
   "source": [
    "# Input"
   ]
  },
  {
   "cell_type": "markdown",
   "metadata": {},
   "source": [
    "* a set of valid CellOrganizer models"
   ]
  },
  {
   "cell_type": "markdown",
   "metadata": {},
   "source": [
    "# Output"
   ]
  },
  {
   "cell_type": "markdown",
   "metadata": {},
   "source": [
    "* a report"
   ]
  },
  {
   "cell_type": "code",
   "execution_count": 1,
   "metadata": {},
   "outputs": [
    {
     "name": "stdout",
     "output_type": "stream",
     "text": [
      "Generating report using only protein parameters\n"
     ]
    },
    {
     "data": {
      "text/html": [
       "<!DOCTYPE html>\n",
       "<html>\n",
       "<body>\n",
       "\n",
       "<h2>Filenames</h2>\n",
       "<p>model1_filename = /home/murphylab/cellorganizer/local/models/3D/nuc.mat</p>model2_filename = /home/murphylab/cellorganizer/local/models/3D/lamp2.mat\n",
       "<h2>Model Identifiers</h2>\n",
       "<p>model1.filename = nuc.mat;model1.name = 3D HeLa classic generative model;model1.id = 40454A1C-B8D3-4875-94CD-2E24A738BFDF;</p><p>model2.filename = lamp2.mat;model2.name = 3D HeLa classic generative model;model2.id = E24374F2-B39C-476A-BC58-E5696F2FEF2F;</p>\n",
       "<figure>\n",
       "<a href=\"image1.png\"><img src=\"image1_thumbnail.png\" /></a>\n",
       "<figcaption>Parameter comparison</figcaption>\n",
       "</figure>\n",
       "\n",
       "\n",
       "<figure>\n",
       "<a href=\"image2.png\"><img src=\"image2_thumbnail.png\" /></a>\n",
       "<figcaption>Parameter comparison</figcaption>\n",
       "</figure>\n",
       "\n",
       "\n",
       "<figure>\n",
       "<a href=\"image3.png\"><img src=\"image3_thumbnail.png\" /></a>\n",
       "<figcaption>Parameters with largest differences</figcaption>\n",
       "</figure>\n",
       "\n",
       "\n",
       "<figure>\n",
       "<a href=\"image4.png\"><img src=\"image4_thumbnail.png\" /></a>\n",
       "<figcaption>GMM Vesicle Model Comparison</figcaption>\n",
       "</figure>\n",
       "\n",
       "\n",
       "<figure>\n",
       "<a href=\"image5.png\"><img src=\"image5_thumbnail.png\" /></a>\n",
       "<figcaption>Spatial model comparison</figcaption>\n",
       "</figure>\n",
       "\n",
       "</body>\n",
       "</html>"
      ],
      "text/plain": [
       "<IPython.core.display.HTML object>"
      ]
     },
     "execution_count": 1,
     "metadata": {},
     "output_type": "execute_result"
    }
   ],
   "source": [
    "from cellorganizer.tools import slml2report\n",
    "from IPython.core.display import HTML\n",
    "\n",
    "print('Generating report using only protein parameters')\n",
    "directory =  '/home/murphylab/cellorganizer/local/models/3D/'\n",
    "\n",
    "\n",
    "slml2report(directory + 'nuc.mat', directory + 'lamp2.mat', {})\n",
    "HTML(filename = 'index.html')"
   ]
  },
  {
   "cell_type": "code",
   "execution_count": null,
   "metadata": {},
   "outputs": [],
   "source": []
  }
 ],
 "metadata": {
  "kernelspec": {
   "display_name": "Python 3",
   "language": "python",
   "name": "python3"
  },
  "language_info": {
   "codemirror_mode": {
    "name": "ipython",
    "version": 3
   },
   "file_extension": ".py",
   "mimetype": "text/x-python",
   "name": "python",
   "nbconvert_exporter": "python",
   "pygments_lexer": "ipython3",
   "version": "3.7.6"
  }
 },
 "nbformat": 4,
 "nbformat_minor": 2
}
