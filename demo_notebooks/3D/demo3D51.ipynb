{
 "cells": [
  {
   "cell_type": "markdown",
   "metadata": {},
   "source": [
    "# demo3D51"
   ]
  },
  {
   "cell_type": "markdown",
   "metadata": {},
   "source": [
    "Show shape evolution plot with a trained SPHARM-RPDM model with only cell shape"
   ]
  },
  {
   "cell_type": "markdown",
   "metadata": {},
   "source": [
    "# Input"
   ]
  },
  {
   "cell_type": "markdown",
   "metadata": {},
   "source": [
    "* a directory of raw or synthetic nucleus images\n",
    "* a directory of raw or synthetic cell shape images\n",
    "* the resolution of the images (all images should have the same\n",
    "  resolution)"
   ]
  },
  {
   "cell_type": "markdown",
   "metadata": {},
   "source": [
    "# Output"
   ]
  },
  {
   "cell_type": "markdown",
   "metadata": {},
   "source": [
    "* a valid SLML model file\n",
    "* a shape space plot"
   ]
  },
  {
   "cell_type": "code",
   "execution_count": 6,
   "metadata": {},
   "outputs": [],
   "source": [
    "from cellorganizer.tools import slml2info\n",
    "import os\n",
    "from IPython.core.display import HTML\n",
    "\n",
    "options = {}\n",
    "#options['shape_evolution'] = 'none'\n",
    "options['labels'] = 'unique'\n",
    "options['subsize'] = 800 #controls the size of the shape (larger number is smaller)\n",
    "#options['viewangle'] = [0,90] #down z axis\n",
    "#options['viewangle'] = [90,0] #side view\n",
    "#options['viewangle'] = [45,45] #3D view\n",
    "\n",
    "if os.path.exists('/home/murphylab/cellorganizer/local/notebooks/demo_notebooks/3D/demo3D50.mat'):\n",
    "    answer = slml2info({'/home/murphylab/cellorganizer/local/notebooks/demo_notebooks/3D/demo3D50.mat'}, {})\n",
    "else:\n",
    "    print('The required file demo3D50.mat does not exist in the expected location. Please run demo3D50 first.')\n",
    "\n",
    "if answer:\n",
    "    HTML(filename=\"index.html\")"
   ]
  },
  {
   "cell_type": "code",
   "execution_count": null,
   "metadata": {},
   "outputs": [],
   "source": []
  },
  {
   "cell_type": "code",
   "execution_count": null,
   "metadata": {},
   "outputs": [],
   "source": []
  }
 ],
 "metadata": {
  "kernelspec": {
   "display_name": "Python 3",
   "language": "python",
   "name": "python3"
  },
  "language_info": {
   "codemirror_mode": {
    "name": "ipython",
    "version": 3
   },
   "file_extension": ".py",
   "mimetype": "text/x-python",
   "name": "python",
   "nbconvert_exporter": "python",
   "pygments_lexer": "ipython3",
   "version": "3.7.6"
  }
 },
 "nbformat": 4,
 "nbformat_minor": 2
}
