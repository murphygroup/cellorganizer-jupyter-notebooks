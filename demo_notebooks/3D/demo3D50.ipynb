{
 "cells": [
  {
   "cell_type": "markdown",
   "metadata": {},
   "source": [
    "# demo3D50"
   ]
  },
  {
   "cell_type": "markdown",
   "metadata": {},
   "source": [
    "Train 3D generative SPHARM-RPDM cell shape model using one of the image set from the Murphy Lab 3D HeLa dataset."
   ]
  },
  {
   "cell_type": "markdown",
   "metadata": {},
   "source": [
    "# Input"
   ]
  },
  {
   "cell_type": "markdown",
   "metadata": {},
   "source": [
    "* a directory of raw or synthetic nucleus images\n",
    "* a directory of raw or synthetic cell shape images\n",
    "* the resolution of the images (all images should have the same\n",
    "  resolution)"
   ]
  },
  {
   "cell_type": "markdown",
   "metadata": {},
   "source": [
    "# Output"
   ]
  },
  {
   "cell_type": "markdown",
   "metadata": {},
   "source": [
    "* a valid SLML model file"
   ]
  },
  {
   "cell_type": "code",
   "execution_count": 1,
   "metadata": {},
   "outputs": [
    {
     "name": "stdout",
     "output_type": "stream",
     "text": [
      "The result model is in folder /home/murphylab/cellorganizer/local/notebooks/demo_notebooks/3D/demo3D50output\n"
     ]
    }
   ],
   "source": [
    "from cellorganizer.tools import img2slml\n",
    "import glob\n",
    "import urllib.request\n",
    "import tarfile \n",
    "import os\n",
    "\n",
    "\n",
    "\n",
    "outputdir = os.getcwd() + os.path.sep + 'demo3D50output'\n",
    "\n",
    "if not os.path.exists(outputdir):\n",
    "    os.makedirs(outputdir)\n",
    "os.chdir(outputdir)\n",
    "\n",
    "options = {}\n",
    "\n",
    "options['verbose'] = False\n",
    "options['debug'] = False\n",
    "options['display'] = False\n",
    "options['model.name'] = 'demo3D50'\n",
    "options['model.filename'] = 'demo3D50.mat'\n",
    "options['model.id'] = 'demo3D50'\n",
    "options['nucleus.name'] = 'none'\n",
    "options['cell.model'] = 'demo3D50'\n",
    "\n",
    "options['train.flag'] = 'cell'\n",
    "options['cell.class'] = 'cell_membrane'\n",
    "options['cell.type'] = 'spharm_rpdm'\n",
    "\n",
    "# increasing these numbers increases compute time but potentially\n",
    "# improves model quality; the reported Hausdorff distances between the\n",
    "# reconstructions and the original shapes can be used to evaluate this\n",
    "options['spharm_rpdm.NMfirsttry_maxiter'] = 300\n",
    "options['spharm_rpdm.NMretry_maxiter'] = 100\n",
    "options['spharm_rpdm.NMretry_maxiterbig'] = 300\n",
    "\n",
    "# decreasing these numbers decreases compute time but potential reduces model quality\n",
    "options['spharm_rpdm.NMcost_tol'] = 1e-7\n",
    "options['spharm_rpdm.NMlargr_tol'] = 1e-7\n",
    "\n",
    "# degree of spherical harmonic descriptor\n",
    "options['spharm_rpdm.maxDeg'] = 31\n",
    "# if the error in the parameterization for a given cell is higher than this, discard that cell\n",
    "# (note that there is a separate option hd_threshold that controls which cells are in reports)\n",
    "options['hd_thresh'] = 10\n",
    "\n",
    "# postprocess of parameterization: alignment\n",
    "options['model.spharm_rpdm.postprocess'] = True\n",
    "# degree of the descriptor\n",
    "options['model.spharm_rpdm.maxDeg'] = options['spharm_rpdm.maxDeg']\n",
    "# cellular components: either {'cell'}, {'nuc'}, or {'cell', 'nuc'}\n",
    "options['model.spharm_rpdm.components'] = {'cell'}\n",
    "# needed?\n",
    "options['model.spharm_rpdm.alignment_method'] = 'major_axis'\n",
    "# needed?\n",
    "options['model.spharm_rpdm.rotation_plane'] = 'xyz'\n",
    "\n",
    "# latent dimension for the model (after PCA)\n",
    "options['model.spharm_rpdm.latent_dim'] = 15\n",
    "# minimum fractional volume that nucleus has to have to keep that cell\n",
    "options['model.spharm_rpdm.segminnucfraction'] = 0.1\n",
    "\n",
    "# the parameters below are adapted to the LAMP2 image\n",
    "# collection, modify these according to your needs\n",
    "\n",
    "directory = '/home/murphylab/cellorganizer/local/images/HeLa/3D/processed/'\n",
    "# to reduce compute times, just process the first 9 images in the collection\n",
    "dnaImagesDirectoryPath = [directory + 'LAM_cell1_ch0_t1.tif',directory + 'LAM_cell2_ch0_t1.tif', directory + 'LAM_cell3_ch0_t1.tif', directory + 'LAM_cell4_ch0_t1.tif', directory + 'LAM_cell5_ch0_t1.tif', directory + 'LAM_cell6_ch0_t1.tif', directory + 'LAM_cell7_ch0_t1.tif', directory + 'LAM_cell8_ch0_t1.tif', directory + 'LAM_cell9_ch0_t1.tif']\n",
    "cellImagesDirectoryPath = [directory + 'LAM_cell1_ch1_t1.tif', directory + 'LAM_cell2_ch1_t1.tif', directory + 'LAM_cell3_ch1_t1.tif', directory + 'LAM_cell4_ch1_t1.tif', directory + 'LAM_cell5_ch1_t1.tif', directory + 'LAM_cell6_ch1_t1.tif', directory + 'LAM_cell7_ch1_t1.tif', directory + 'LAM_cell8_ch1_t1.tif', directory + 'LAM_cell9_ch1_t1.tif']\n",
    "options['masks'] = [directory + 'LAM_cell1_mask_t1.tif', directory + 'LAM_cell2_mask_t1.tif', directory + 'LAM_cell3_mask_t1.tif', directory + 'LAM_cell4_mask_t1.tif', directory + 'LAM_cell5_mask_t1.tif', directory + 'LAM_cell6_mask_t1.tif', directory + 'LAM_cell7_mask_t1.tif', directory + 'LAM_cell8_mask_t1.tif', directory + 'LAM_cell9_mask_t1.tif']\n",
    "#dnaImagesDirectoryPath = [directory + 'LAM_cell*_ch0_t1.tif']\n",
    "#cellImagesDirectoryPath = [directory + 'LAM_cell*_ch1_t1.tif']\n",
    "#options['masks'] = [directory + 'LAM_cell*_mask_t1.tif']\n",
    "proteinImagesDirectoryPath = []\n",
    "\n",
    "options['model.resolution'] = [0.049, 0.049, 0.2000]\n",
    "#options['downsampling'] = [5, 5, 1]\n",
    "# this comment shows how to downsample another 2 fold in xyz (8 fold overall)\n",
    "options['downsampling'] = [10, 10, 2]\n",
    "\n",
    "dimensionality = '3D'\n",
    "options['documentation.description'] = 'This model has been trained using demo3D50 from CellOrganizer'\n",
    "\n",
    "# add to this as per .m file\n",
    "img2slml(dimensionality, dnaImagesDirectoryPath, cellImagesDirectoryPath, proteinImagesDirectoryPath, options)\n",
    "print('The result model is in folder ' + outputdir)"
   ]
  }
 ],
 "metadata": {
  "kernelspec": {
   "display_name": "Python 3",
   "language": "python",
   "name": "python3"
  },
  "language_info": {
   "codemirror_mode": {
    "name": "ipython",
    "version": 3
   },
   "file_extension": ".py",
   "mimetype": "text/x-python",
   "name": "python",
   "nbconvert_exporter": "python",
   "pygments_lexer": "ipython3",
   "version": "3.7.6"
  }
 },
 "nbformat": 4,
 "nbformat_minor": 2
}
