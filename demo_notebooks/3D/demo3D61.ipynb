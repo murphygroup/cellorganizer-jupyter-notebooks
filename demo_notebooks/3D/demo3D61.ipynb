{
 "cells": [
  {
   "cell_type": "markdown",
   "metadata": {},
   "source": [
    "# demo3D61"
   ]
  },
  {
   "cell_type": "markdown",
   "metadata": {},
   "source": [
    "[description]"
   ]
  },
  {
   "cell_type": "markdown",
   "metadata": {},
   "source": [
    "# Inputs"
   ]
  },
  {
   "cell_type": "markdown",
   "metadata": {},
   "source": [
    "* a directory of raw or synthetic nucleus images\n",
    "* a directory of raw or synthetic cell shape images\n",
    "* the resolution of the images (all images should have the same\n",
    "  resolution)"
   ]
  },
  {
   "cell_type": "markdown",
   "metadata": {},
   "source": [
    "# Outputs"
   ]
  },
  {
   "cell_type": "markdown",
   "metadata": {},
   "source": [
    "* a valid model"
   ]
  },
  {
   "cell_type": "code",
   "execution_count": null,
   "metadata": {},
   "outputs": [],
   "source": [
    "from cellorganizer.tools import img2slml\n",
    "import glob\n",
    "import os\n",
    "\n",
    "# create output directory\n",
    "outputdir = os.getcwd() + os.path.sep + 'demo3D61output'\n",
    "\n",
    "if not os.path.exists(outputdir):\n",
    "    os.makedirs(outputdir)\n",
    "os.chdir(outputdir)\n",
    "\n",
    "# init\n",
    "options = {}\n",
    "dnaImagesDirectoryPath = []\n",
    "cellImagesDirectoryPath = []\n",
    "options[\"masks\"] = []\n",
    "proteinImagesDirectoryPath = []\n",
    "\n",
    "# get images\n",
    "file_pattern = 'LAM_cell1?_mask_t1.tif'\n",
    "for name in glob.glob(directory + file_pattern):\n",
    "    options[\"masks\"].append(name)\n",
    "\n",
    "file_pattern = 'LAM_cell1?_ch1_t1.tif'\n",
    "for name in glob.glob(directory + file_pattern):\n",
    "    cellImagesDirectoryPath.append(name)\n",
    "    \n",
    "file_pattern = 'LAM_cell1?_ch0_t1.tif'\n",
    "for name in glob.glob(directory + file_pattern):\n",
    "    dnaImagesDirectoryPath.append(name)\n",
    "    \n",
    "file_pattern = 'LAM_cell1?_ch2_t1.tif'\n",
    "for name in glob.glob(directory + file_pattern):\n",
    "    proteinImagesDirectoryPath.append(name)\n",
    "    \n",
    "\n",
    "cellImagesDirectoryPath.sort()\n",
    "dnaImagesDirectoryPath.sort()\n",
    "proteinImagesDirectoryPath.sort()\n",
    "options[\"masks\"].sort()\n",
    "\n",
    "#parameter for spharm \n",
    "options_spharm = {}\n",
    "options_spharm['is_demo'] = True\n",
    "options_spharm['verbose'] = True\n",
    "options_spharm['debug'] = True \n",
    "options_spharm['display'] = False\n",
    "options_spharm['train.flag'] = 'cell'\n",
    "options_spharm['cell.class'] = 'cell_membrane'\n",
    "options_spharm['cell.type'] = 'spharm_rpdm'\n",
    "# postprocess of parameterization: alignment\n",
    "options_spharm['model.spharm_rpdm.postprocess'] = True\n",
    "options_spharm['model.resolution'] = [0.049, 0.049, 0.2000]\n",
    "options_spharm['downsampling'] = [1,1,1]\n",
    "options_spharm['model.filename'] = 'objects.xml'\n",
    "options_spharm['model.id'] = 'objects'\n",
    "options_spharm['model.name'] = 'objects'\n",
    "options_spharm['nucleus.name'] = 'objects'\n",
    "options_spharm['cell.model'] = 'objects'\n",
    "# degree of the descriptor\n",
    "options_spharm['model.spharm_rpdm.maxDeg'] = 31\n",
    "# cellular components: either {'cell'}, {'nuc'}, or {'cell', 'nuc'}\n",
    "options_spharm['model.spharm_rpdm.components'] = ['cell']\n",
    "# latent dimension for the model\n",
    "options_spharm['model.spharm_rpdm.latent_dim'] = 15\n",
    "# alignment method: 'major_axis' or 'foe'\n",
    "options_spharm['model.spharm_rpdm.alignment_method'] = 'major_axis'\n",
    "# plane of rotation: 'xy' 'yz', 'xz' or 'xyz'\n",
    "options_spharm['model.spharm_rpdm.rotation_plane'] = 'xyz'\n",
    "# documentation\n",
    "options_spharm['documentation.description'] = 'This model has been trained for shape-location protein model from CellOrganizer'\n",
    "options_spharm['model.spharm_rpdm.segminnucfraction'] = 0.1\n",
    "options_spharm['verbose'] = 1\n",
    "options_spharm['spharm_rpdm.NMcost_tol'] = 0.0000001\n",
    "options_spharm['spharm_rpdm.NMlargr_tol'] = 0.0000001\n",
    "options_spharm['spharm_rpdm.NMfirsttry_maxiter'] = 300\n",
    "options_spharm['spharm_rpdm.NMretry_maxiter'] = 100\n",
    "options_spharm['spharm_rpdm.NMretry_maxiterbig'] = 300\n",
    "\n",
    "# setup_everything:\n",
    "options = {}\n",
    "options['options_spharm'] = options_spharm\n",
    "options['verbose'] = 0\n",
    "\n",
    "options['train.flag'] = 'protein'\n",
    "# options['train.flag = ['framework', 'protein'];\n",
    "# options['nucleus.class = 'nuclear_membrane';\n",
    "# options['nucleus.type = 'spharm_rpdm';\n",
    "# options['cell.class = 'cell_membrane';\n",
    "# options['cell.type = 'spharm_rpdm';\n",
    "\n",
    "options['protein.class'] = 'vesicle'\n",
    "options['protein.type'] = 'spharm_obj' # new type for vesicle\n",
    "#options['model.id'] = 0121231\n",
    "options['model.name'] = 'spharm_obj'\n",
    "options['model.resolution = [0.049, 0.049, 0.2000]\n",
    "# options['downsampling = [4,4,1];\n",
    "options['downsampling'] = [1,1,1] # this is for the initial input images\n",
    "options['min_obj_size'] = 20\n",
    "options['max_obj_size'] = 400\n",
    "# options_ppm.min_obj_size=7;\n",
    "options['local_thresholding_sigma'] = 5\n",
    "options['object_detection_thresPerc'] = 0.1\n",
    "# options['masks = mask_paths;\n",
    "# options['if_skip_cell_nuclear_model = true;\n",
    "options['if_skip_cell_nuclear_model'] = False\n",
    "\n",
    "answer = img2slml('3D', dnaImagesDirectoryPath, cellImagesDirectoryPath, proteinImagesDirectoryPath , options)\n",
    "\n",
    "options = {}\n",
    "options['shape_evolution'] = 'none'\n",
    "options['labels'] = 'unique'\n",
    "options['subsize'] = 100 # smaller number means bigger objects\n",
    "options['viewangle'] = [0,90]; # down z axis\n",
    "# options['viewangle'] = [90,0]; # side view\n",
    "options['hd_threshold'] = 10 # filter out objects with Hausdorff distance greater than this\n",
    "        \n",
    "answer = slml2info(['model.mat'], options);\n",
    "\n",
    "HTML(filename=\"index.html\")\n",
    "\n",
    "# load('model.mat');\n",
    "# %f = figure('visible','off');\n",
    "# f = figure('visible','on');\n",
    "# hist(log10(model.proteinModel.spharm_obj_model.cellShapeModel.hausdorff_distances),25)\n",
    "# xlabel('Log10 Hausdorff distance between original and SPHARM-RPDM model');\n",
    "# ylabel('Frequency')\n",
    "# saveas( f, 'hausdorff_distance_histogram.png', 'png' );\n",
    "\n",
    "\n"
   ]
  }
 ],
 "metadata": {
  "kernelspec": {
   "display_name": "Python 3",
   "language": "python",
   "name": "python3"
  },
  "language_info": {
   "codemirror_mode": {
    "name": "ipython",
    "version": 3
   },
   "file_extension": ".py",
   "mimetype": "text/x-python",
   "name": "python",
   "nbconvert_exporter": "python",
   "pygments_lexer": "ipython3",
   "version": "3.7.6"
  }
 },
 "nbformat": 4,
 "nbformat_minor": 5
}
