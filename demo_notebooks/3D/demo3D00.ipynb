{
 "cells": [
  {
   "cell_type": "markdown",
   "metadata": {},
   "source": [
    "# demo3D00\n",
    "Synthesize one 3D image with nuclear, cell shape, and nucleolar channels from nucleolar model with sampling method set to render nucleoli as ellipsoids without convolution with a point-spread function. The model was trained from the Murphy Lab 3D HeLa dataset.\n",
    "\n",
    "## Input \n",
    "* a valid CellOrganizer model file\n",
    "\n",
    "## Output\n",
    "* three TIFF files (nuclear, cell shape, and nucleolar channels)"
   ]
  },
  {
   "cell_type": "code",
   "execution_count": 1,
   "metadata": {},
   "outputs": [
    {
     "name": "stdout",
     "output_type": "stream",
     "text": [
      "TIFF images created in folder /home/murphylab/cellorganizer/local/notebooks/demo_notebooks/3D/demo3D00output/img/cell1/\n"
     ]
    }
   ],
   "source": [
    "from cellorganizer.tools import slml2img\n",
    "import os\n",
    "\n",
    "outputdir = os.getcwd() + os.path.sep + 'demo3D00output'\n",
    "if not os.path.exists(outputdir):\n",
    "    os.makedirs(outputdir)\n",
    "os.chdir(outputdir)\n",
    "\n",
    "options = {}\n",
    "options['targetDirectory'] = os.getcwd()\n",
    "options['prefix'] = 'img'\n",
    "options['compression'] = 'lzw'\n",
    "options['sampling.method']= 'disc'\n",
    "options['debug'] = False\n",
    "options['verbose'] = True\n",
    "options['display'] = False\n",
    "filenames = ['/home/murphylab/cellorganizer/local/models/3D/nuc.mat']\n",
    "\n",
    "answer = slml2img( filenames, options )\n",
    "print('TIFF images created in folder ' + outputdir + '/img/cell1/')"
   ]
  },
  {
   "cell_type": "code",
   "execution_count": null,
   "metadata": {},
   "outputs": [],
   "source": []
  }
 ],
 "metadata": {
  "kernelspec": {
   "display_name": "Python 3",
   "language": "python",
   "name": "python3"
  },
  "language_info": {
   "codemirror_mode": {
    "name": "ipython",
    "version": 3
   },
   "file_extension": ".py",
   "mimetype": "text/x-python",
   "name": "python",
   "nbconvert_exporter": "python",
   "pygments_lexer": "ipython3",
   "version": "3.7.6"
  }
 },
 "nbformat": 4,
 "nbformat_minor": 2
}
